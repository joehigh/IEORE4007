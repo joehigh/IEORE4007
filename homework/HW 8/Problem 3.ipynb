{
 "cells": [
  {
   "cell_type": "markdown",
   "metadata": {},
   "source": [
    "### Problem 3 Code & Results (Parts b - d)\n",
    "\n",
    "Note: My code/solution (below) is also provided in \"$\\texttt{meanvariance.ipynb}$\"  notebook. However, I put it in this separate notebook so that my code and results are separate from the professor's code. The \"$\\texttt{meanvariance.ipynb}$\" notebook contains a lot of the professor's work in the beginning, it could cause confusion."
   ]
  },
  {
   "cell_type": "code",
   "execution_count": 1,
   "metadata": {},
   "outputs": [],
   "source": [
    "import numpy as np\n",
    "import scipy.io as sio\n",
    "import cvxpy as cvx\n",
    "import matplotlib.pyplot as plt\n",
    "import pandas as pd\n",
    "%matplotlib inline"
   ]
  },
  {
   "cell_type": "code",
   "execution_count": 2,
   "metadata": {},
   "outputs": [],
   "source": [
    "mat_contents = sio.loadmat('meanvariance.mat')\n",
    "mu = mat_contents['mu']\n",
    "S = np.matrix(mat_contents['S'])\n",
    "d = np.size(mu)"
   ]
  },
  {
   "cell_type": "markdown",
   "metadata": {},
   "source": [
    "###### Part b"
   ]
  },
  {
   "cell_type": "code",
   "execution_count": 3,
   "metadata": {},
   "outputs": [],
   "source": [
    "J = np.ones((len(S),1))    # d x 1 ones vector\n",
    "S_inv = np.linalg.inv(S)   # inverse of covariance matrix"
   ]
  },
  {
   "cell_type": "code",
   "execution_count": 4,
   "metadata": {},
   "outputs": [],
   "source": [
    "x_numerator = np.matmul(S_inv, J)     # numerator of the optimal solution\n",
    "JS_inv = J.T*S_inv\n",
    "x_denominator = np.matmul(JS_inv, J)  # denominator of the optimal solution\n",
    "\n",
    "x_min = x_numerator/x_denominator     # optimal solution (min variance portfolio)\n",
    "r_min = np.dot(mu.T, x_min).item(0)   # minimum expected return"
   ]
  },
  {
   "cell_type": "code",
   "execution_count": 5,
   "metadata": {},
   "outputs": [],
   "source": [
    "opt_val = x_min.T*S*x_min           # minimum variance (i.e. optimal objective value)\n",
    "\n",
    "sigma2_min = opt_val.item(0)        # extracts the scalar value from the 1x1 matrix"
   ]
  },
  {
   "cell_type": "code",
   "execution_count": 6,
   "metadata": {},
   "outputs": [
    {
     "name": "stdout",
     "output_type": "stream",
     "text": [
      "Minimum Variance (opt value):   5.850607343853076e-11\n",
      "\n",
      "Minimum Return (r_min):   0.05152761072308839\n"
     ]
    }
   ],
   "source": [
    "print('Minimum Variance (opt value):  ', sigma2_min)\n",
    "print('\\nMinimum Return (r_min):  ', r_min)\n",
    "#print('\\nMinimum Variance Portfolio x (optimal solution):\\n\\n', x_min)"
   ]
  },
  {
   "cell_type": "markdown",
   "metadata": {},
   "source": [
    "###### Part c"
   ]
  },
  {
   "cell_type": "markdown",
   "metadata": {},
   "source": [
    "Want to solve the following system of equations for $x$ and $u$ (critical values)\n",
    "\n",
    "$$\n",
    "\\underbrace{\\begin{bmatrix}\n",
    "\\begin{bmatrix} \\mu^\\top \\\\ \\mathbf{1}^\\top \\end{bmatrix}  & \\mathbf{0}\\\\\n",
    "2S & \\begin{bmatrix} \\mu & \\mathbf{1} \\end{bmatrix} \n",
    "\\end{bmatrix}}_{M}\n",
    "\\underbrace{\\begin{bmatrix}\n",
    "x \\\\ u\n",
    "\\end{bmatrix}}_{z}\n",
    "= \\underbrace{\\begin{bmatrix}\n",
    "\\begin{bmatrix} 1.1r_{min} \\\\ 1 \\end{bmatrix} \\\\\n",
    "0\n",
    "\\end{bmatrix}}_{q}\n",
    "$$"
   ]
  },
  {
   "cell_type": "code",
   "execution_count": 7,
   "metadata": {},
   "outputs": [],
   "source": [
    "M11 = np.concatenate((mu.T, J.T),axis=0)\n",
    "M12 = np.zeros((len(M11),len(M11)))\n",
    "M21 = 2*S\n",
    "M22 = np.concatenate((mu, J),axis=1)\n",
    "\n",
    "M1 = np.concatenate((M11, M12), axis=1)\n",
    "M2 = np.concatenate((M21, M22),axis=1)\n",
    "M = np.concatenate((M1,M2),axis=0)\n",
    "\n",
    "b = np.array([[1.1*r_min], [1]])\n",
    "q = np.concatenate((b, np.zeros((len(S),1))), axis=0)"
   ]
  },
  {
   "cell_type": "code",
   "execution_count": 8,
   "metadata": {},
   "outputs": [],
   "source": [
    "z = np.linalg.solve(M,q)\n",
    "x_opt = z[0:d]"
   ]
  },
  {
   "cell_type": "markdown",
   "metadata": {},
   "source": [
    "Alternative approach to solving for $x^*$ (Determined using the lecture notes on the optimal solution to equality constrained QPs) \n",
    "\n",
    "$x^* = S^{-1}\\begin{bmatrix} \\mu & \\mathbf{1} \\end{bmatrix} \n",
    "\\left(\\begin{bmatrix} \\mu^\\top \\\\ \\mathbf{1}^\\top \\end{bmatrix} S^{-1}\n",
    "\\begin{bmatrix} \\mu & \\mathbf{1} \\end{bmatrix}\\right)^{-1}\n",
    "\\begin{bmatrix} 1.1r_{min} \\\\ 1 \\end{bmatrix}$"
   ]
  },
  {
   "cell_type": "code",
   "execution_count": 9,
   "metadata": {},
   "outputs": [],
   "source": [
    "# Computes the expression above for optimal x (primal critical values using gradient condition)\n",
    "\n",
    "x_left = S_inv*M22\n",
    "x_mid = np.linalg.inv(M11*S_inv*M22)\n",
    "x_right = b\n",
    "\n",
    "x_optimal = x_left*x_mid*x_right"
   ]
  },
  {
   "cell_type": "code",
   "execution_count": 10,
   "metadata": {},
   "outputs": [],
   "source": [
    "alpha1 = r_min\n",
    "alpha2 = np.dot(mu.T, x_opt).item(0)\n",
    "\n",
    "sigma2 = np.zeros(len(S)) \n",
    "r = np.zeros(len(S))\n",
    "alpha = r_min\n",
    "\n",
    "for i in range(len(S)):\n",
    "    weight = (alpha2-alpha)/(alpha2-alpha1)\n",
    "    phi = weight*x_min + (1-weight)*x_opt\n",
    "    #eff = np.concatenate((eff, phi), axis=1)\n",
    "    sigma2[i] = phi.T*S*phi\n",
    "    r[i] = alpha\n",
    "    alpha += 0.0001"
   ]
  },
  {
   "cell_type": "code",
   "execution_count": 11,
   "metadata": {},
   "outputs": [
    {
     "data": {
      "image/png": "[encoded data removed]",
      "text/plain": [
       "<Figure size 432x288 with 1 Axes>"
      ]
     },
     "metadata": {
      "needs_background": "light"
     },
     "output_type": "display_data"
    }
   ],
   "source": [
    "plt.title('Efficient Frontier')\n",
    "plt.xlabel(r'$\\sigma^2$')\n",
    "plt.ylabel(r'$\\alpha$')\n",
    "plt.plot(sigma2, r)\n",
    "plt.show()"
   ]
  },
  {
   "cell_type": "markdown",
   "metadata": {},
   "source": [
    "###### Part d - Sharpe optimal portfolio"
   ]
  },
  {
   "cell_type": "code",
   "execution_count": 12,
   "metadata": {},
   "outputs": [],
   "source": [
    "r_f = 0.04               #risk-free rate\n",
    "\n",
    "J = np.ones((len(mu),1)) # d x 1 ones vector \n",
    "mu_ex = mu - r_f*J       # vector of expected excess returns\n",
    "\n",
    "x_num = S_inv*mu_ex     \n",
    "x_den = mu_ex.T*S_inv*mu_ex\n",
    "\n",
    "x_star = x_num/x_den     # Optimal solution \n",
    "\n",
    "x_sh = x_star/np.dot(J.T, x_star).item(0)    # Sharpe optimal portfolio"
   ]
  },
  {
   "cell_type": "code",
   "execution_count": 13,
   "metadata": {},
   "outputs": [
    {
     "name": "stdout",
     "output_type": "stream",
     "text": [
      "Optimal Sharpe portfolio statistics:\n",
      "\n",
      "Variance:        1.3485956836610517e-10\n",
      "\n",
      "Excess Return:   0.026571747427911182\n",
      "\n",
      "Sharpe Ratio:    2288.1222961738217\n"
     ]
    }
   ],
   "source": [
    "opt_variance = x_sh.T*S*x_sh      # variance on optimal Sharpe portfolio\n",
    "ex_return = mu_ex.T*x_sh          # excess return on optimal Sharpe portfolio\n",
    "sharpe_ratio = ex_return/np.sqrt(opt_variance)\n",
    "\n",
    "print('Optimal Sharpe portfolio statistics:')\n",
    "print('\\nVariance:       ', opt_variance.item(0))  \n",
    "print('\\nExcess Return:  ', ex_return.item(0)) \n",
    "print('\\nSharpe Ratio:   ', sharpe_ratio.item(0))"
   ]
  }
 ],
 "metadata": {
  "kernelspec": {
   "display_name": "Python 3",
   "language": "python",
   "name": "python3"
  },
  "language_info": {
   "codemirror_mode": {
    "name": "ipython",
    "version": 3
   },
   "file_extension": ".py",
   "mimetype": "text/x-python",
   "name": "python",
   "nbconvert_exporter": "python",
   "pygments_lexer": "ipython3",
   "version": "3.7.4"
  }
 },
 "nbformat": 4,
 "nbformat_minor": 2
}
