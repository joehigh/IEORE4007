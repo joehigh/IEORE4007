{
 "cells": [
  {
   "cell_type": "code",
   "execution_count": 1,
   "metadata": {},
   "outputs": [],
   "source": [
    "import numpy as np\n",
    "import cvxpy as cvx\n",
    "import matplotlib.pyplot as plt"
   ]
  },
  {
   "cell_type": "code",
   "execution_count": 2,
   "metadata": {},
   "outputs": [
    {
     "data": {
      "text/plain": [
       "array([[0.06490909, 0.13536364, 0.14145455, 0.13572727]])"
      ]
     },
     "execution_count": 2,
     "metadata": {},
     "output_type": "execute_result"
    }
   ],
   "source": [
    "# US_3-MONTH_T-BILLS US_GOVN_LONG_BONDS SP_500 WILSHIRE_5000 :=\n",
    "X = np.matrix([\n",
    "    [1984, 1.103, 1.159, 1.061, 1.030],\n",
    "    [1985, 1.080, 1.366, 1.316, 1.326],\n",
    "    [1986, 1.063, 1.309, 1.186, 1.161],\n",
    "    [1987, 1.061, 0.925, 1.052, 1.023],\n",
    "    [1988, 1.071, 1.086, 1.165, 1.179],\n",
    "    [1989, 1.087, 1.212, 1.316, 1.292],\n",
    "    [1990, 1.080, 1.054, 0.968, 0.938],\n",
    "    [1991, 1.057, 1.193, 1.304, 1.342],\n",
    "    [1992, 1.036, 1.079, 1.076, 1.090],\n",
    "    [1993, 1.031, 1.217, 1.100, 1.113],\n",
    "    [1994, 1.045, 0.889, 1.012, 0.999]]);\n",
    "\n",
    "n, d = np.shape(X)\n",
    "\n",
    "L = 1 - X[:,1:n];\n",
    "mu_est = -np.mean(L,0);\n",
    "mu_est = np.array(mu_est)\n",
    "mu_est"
   ]
  },
  {
   "cell_type": "code",
   "execution_count": 3,
   "metadata": {},
   "outputs": [
    {
     "name": "stdout",
     "output_type": "stream",
     "text": [
      "[[-0.08825 -0.272   -0.17975 -0.01525 -0.12525 -0.22675 -0.01    -0.224\n",
      "  -0.07025 -0.11525  0.01375]]\n"
     ]
    }
   ],
   "source": [
    "portfolio = np.array([0.25, 0.25, 0.25, 0.25])\n",
    "wealthLoss = np.matmul(L, portfolio)\n",
    "print(wealthLoss)"
   ]
  },
  {
   "cell_type": "code",
   "execution_count": 4,
   "metadata": {},
   "outputs": [
    {
     "name": "stdout",
     "output_type": "stream",
     "text": [
      "Sorted Portfolio Loss:\n",
      "[[-0.272   -0.22675 -0.224   -0.17975 -0.12525 -0.11525 -0.08825 -0.07025\n",
      "  -0.01525 -0.01     0.01375]]\n"
     ]
    }
   ],
   "source": [
    "wealthLoss.sort()\n",
    "print(\"Sorted Portfolio Loss:\")\n",
    "print(wealthLoss)    # (a)  "
   ]
  },
  {
   "cell_type": "code",
   "execution_count": 5,
   "metadata": {},
   "outputs": [
    {
     "name": "stdout",
     "output_type": "stream",
     "text": [
      "optimal value =  0.0018748653427732938\n",
      "probability: \n",
      "[ 1.15059165e-07  1.19506229e-07  1.19078527e-07  1.14286855e-07\n",
      "  1.16993948e-07  1.15197752e-07  1.18806206e-07  1.07177396e-07\n",
      " -9.27845482e-07  4.99999885e-01  5.00000116e-01]\n"
     ]
    }
   ],
   "source": [
    "q = cvx.Variable(11)\n",
    "\n",
    "constraints = [];\n",
    "\n",
    "constraints += [sum(q) == 1]\n",
    "constraints += [q <= 0.5]\n",
    "constraints += [q >= 0]\n",
    "\n",
    "obj = wealthLoss*q\n",
    "objective = cvx.Maximize(obj);\n",
    "prob = cvx.Problem(objective, constraints);\n",
    "\n",
    "prob.solve()\n",
    "if (prob.status == \"optimal\"):\n",
    "    print('optimal value = ', prob.value)\n",
    "    print('probability: ')\n",
    "    print(q.value)    # (b) "
   ]
  },
  {
   "cell_type": "code",
   "execution_count": 7,
   "metadata": {},
   "outputs": [
    {
     "name": "stdout",
     "output_type": "stream",
     "text": [
      "Gamma    Asset 1    Asset 2    Asset 3    Asset 4\n",
      "Using license file /Users/joehigh/gurobi.lic\n",
      "0.08    -1.65957   0.00000    5.00000   -2.34043\n",
      "0.06    -1.44681   0.00000    5.00000   -2.55319\n",
      "0.04    -1.23404   0.00000    5.00000   -2.76596\n",
      "0.02    -1.02128   0.00000    5.00000   -2.97872\n"
     ]
    }
   ],
   "source": [
    "x = cvx.Variable(4)   # portfolio weight\n",
    "b = cvx.Variable(4, boolean = True)  #binary variables\n",
    "beta = cvx.Variable(1)   # dual variable beta\n",
    "# l = cvx.Variable(11)    # porfolio loss\n",
    "l = L*x\n",
    "z = cvx.Variable(11)\n",
    "\n",
    "gamma = np.array([0.08, 0.06, 0.04, 0.02])\n",
    "\n",
    "x_pos = cvx.Variable(4)\n",
    "x_neg = cvx.Variable(4)\n",
    "\n",
    "K = 10000\n",
    "M = 1.25\n",
    "constraints = [];\n",
    "constraints += [z-l+beta >= 0]\n",
    "constraints += [z >= 0]\n",
    "constraints += [sum(x) == 1]\n",
    "constraints += [x_pos <= K*b]\n",
    "constraints += [x_pos >= 0]\n",
    "constraints += [x_neg <= (1-b)*K]\n",
    "constraints += [x_neg >= 0]\n",
    "constraints += [x == x_pos - x_neg]\n",
    "constraints += [M*sum(x_neg) - sum(x_pos) <= 0]\n",
    "\n",
    "obj = mu_est*x\n",
    "objective = cvx.Maximize(obj);\n",
    "\n",
    "result = np.zeros(4)\n",
    "print('Gamma    Asset 1    Asset 2    Asset 3    Asset 4')\n",
    "for i in range(4):\n",
    "    constraints += [(beta + 0.5*sum(z)) <= gamma[i]]\n",
    "    prob = cvx.Problem(objective, constraints)\n",
    "    \n",
    "    prob.solve(solver = cvx.GUROBI)\n",
    "    if (prob.status == \"optimal\"):\n",
    "        # print('optimal value = ', prob.value)\n",
    "        x0 = x[0].value;\n",
    "        x1 = x[1].value;\n",
    "        x2 = x[2].value;\n",
    "        x3 = x[3].value;\n",
    "        result[i] = prob.value;\n",
    "        print(gamma[i], '  ', '%.5f  ' % x0, '%.5f ' % x1, ' ', '%.5f  ' % x2, '%.5f' % x3)\n",
    "        #print(gamma[i],  x0,  x1,  x2,  x3)"
   ]
  },
  {
   "cell_type": "code",
   "execution_count": null,
   "metadata": {},
   "outputs": [],
   "source": [
    "# Plot the mean-CVaR frontier\n",
    "\n",
    "plt.title('Mean - CVaR Frontier')\n",
    "plt.xlabel('CVaR')\n",
    "plt.ylabel('Expected Return')\n",
    "plt.plot(gamma, result, linewidth=2)\n",
    "plt.grid(True)\n",
    "plt.autoscale(enable=True, tight=True)\n",
    "plt.axis([0.02,0.08,0.22,0.29])\n",
    "plt.show()"
   ]
  },
  {
   "cell_type": "code",
   "execution_count": null,
   "metadata": {},
   "outputs": [],
   "source": []
  }
 ],
 "metadata": {
  "kernelspec": {
   "display_name": "Python 3",
   "language": "python",
   "name": "python3"
  },
  "language_info": {
   "codemirror_mode": {
    "name": "ipython",
    "version": 3
   },
   "file_extension": ".py",
   "mimetype": "text/x-python",
   "name": "python",
   "nbconvert_exporter": "python",
   "pygments_lexer": "ipython3",
   "version": "3.7.3"
  }
 },
 "nbformat": 4,
 "nbformat_minor": 2
}
