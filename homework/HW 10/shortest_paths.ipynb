{
 "cells": [
  {
   "cell_type": "markdown",
   "metadata": {},
   "source": [
    "## Shortest path in graphs ##\n",
    "\n",
    "In this problem we will compute shortest paths in a randomly generated graph with positive and negative weight edges. "
   ]
  },
  {
   "cell_type": "code",
   "execution_count": 15,
   "metadata": {},
   "outputs": [],
   "source": [
    "import random as rnd\n",
    "import numpy as np\n",
    "import scipy as sp"
   ]
  },
  {
   "cell_type": "markdown",
   "metadata": {},
   "source": [
    "### Generate a random graph ###"
   ]
  },
  {
   "cell_type": "code",
   "execution_count": 16,
   "metadata": {},
   "outputs": [],
   "source": [
    "N = 10; # number of nodes in the graph\n",
    "p = 0.5; # probability of an edge\n",
    "c = np.zeros((N,N)); # cost of edges is +infty if there is no edge\n",
    "Z = np.zeros((N,N)); # indicator variable of presence and absence of edges\n",
    "\n",
    "rnd.seed(8); # set a seed for reproducibility\n",
    "\n",
    "for k in range(N):\n",
    "    for l in range(N):\n",
    "        if (k != l):\n",
    "            Z[k,l] = (rnd.random() <= p);\n",
    "            if (Z[k,l]):\n",
    "                c[k,l] = 2*rnd.random() - rnd.random();\n",
    "        else:\n",
    "            Z[l,l] = 0; # no self edges\n",
    "s = rnd.randint(0,N-1)"
   ]
  },
  {
   "cell_type": "markdown",
   "metadata": {},
   "source": [
    "### Recursion ###"
   ]
  },
  {
   "cell_type": "code",
   "execution_count": 17,
   "metadata": {},
   "outputs": [],
   "source": [
    "V = np.inf*np.ones((N,N)); # Value function for all states and stages t = 1,...,N\n",
    "pi = -1*np.ones(N).astype(int); # Preceding node in the shortest path\n",
    "\n",
    "# Initialization\n",
    "for k in range(N):\n",
    "    if (k != s):\n",
    "        if (Z[s,k] == 1):\n",
    "            V[k,0] = c[s,k];\n",
    "            pi[k] = int(s); \n",
    "        else:\n",
    "            V[k,0] = np.inf"
   ]
  },
  {
   "cell_type": "code",
   "execution_count": 18,
   "metadata": {},
   "outputs": [
    {
     "name": "stdout",
     "output_type": "stream",
     "text": [
      "Graph has no negative cost cycle!\n",
      "Shortest path from s=8 to all nodes is as follows:\n",
      "There is no path from s=8 to t=0\n",
      "1 <- 8\n",
      "2 <- 1 <- 8\n",
      "3 <- 7 <- 9 <- 1 <- 8\n",
      "4 <- 8\n",
      "5 <- 4 <- 8\n",
      "6 <- 7 <- 9 <- 1 <- 8\n",
      "7 <- 9 <- 1 <- 8\n",
      "9 <- 1 <- 8\n"
     ]
    }
   ],
   "source": [
    "# Recursion\n",
    "for t in range(1,N):\n",
    "    for j in range(N):\n",
    "        if (j != s): # j not equal to s\n",
    "            V[j,t] = V[j,t-1]\n",
    "            for l in range(N):\n",
    "                if (Z[l,j] == 1) and (V[j,t] > V[l,t-1] + c[l,j]):\n",
    "                    V[j,t] =  V[l,t-1] + c[l,j];\n",
    "                    pi[j] = int(l);\n",
    "\n",
    "# check for negative cost cycles\n",
    "negcycle = False\n",
    "for l in range(N):\n",
    "    if (l != s) & (not negcycle):\n",
    "        negcycle = negcycle or (V[l,N-2] > V[l,N-1])\n",
    "if (negcycle):\n",
    "    print('Graph has a negative cost cycle!')\n",
    "else:\n",
    "    print('Graph has no negative cost cycle!')\n",
    "    print('Shortest path from s='+ str(s) + ' to all nodes is as follows:')\n",
    "    for l in range(N):\n",
    "        if (l != s):\n",
    "            if (pi[l] == -1):\n",
    "                print('There is no path from s=' + str(s) + ' to t=' + str(l))\n",
    "            else:\n",
    "                m = l\n",
    "                print(str(m) + ' <- ', end=\"\")\n",
    "                m = pi[m]\n",
    "                while (m != s):\n",
    "                    print(str(m) + ' <- ', end=\"\")\n",
    "                    m = pi[m]\n",
    "                print(str(s))\n",
    "    \n",
    "    "
   ]
  },
  {
   "cell_type": "code",
   "execution_count": null,
   "metadata": {},
   "outputs": [],
   "source": []
  }
 ],
 "metadata": {
  "kernelspec": {
   "display_name": "Python 3",
   "language": "python",
   "name": "python3"
  },
  "language_info": {
   "codemirror_mode": {
    "name": "ipython",
    "version": 3
   },
   "file_extension": ".py",
   "mimetype": "text/x-python",
   "name": "python",
   "nbconvert_exporter": "python",
   "pygments_lexer": "ipython3",
   "version": "3.6.5"
  }
 },
 "nbformat": 4,
 "nbformat_minor": 2
}
