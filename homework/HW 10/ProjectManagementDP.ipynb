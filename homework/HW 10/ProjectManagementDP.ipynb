{
 "cells": [
  {
   "cell_type": "code",
   "execution_count": 2,
   "metadata": {},
   "outputs": [],
   "source": [
    "import numpy as np"
   ]
  },
  {
   "cell_type": "code",
   "execution_count": 3,
   "metadata": {},
   "outputs": [],
   "source": [
    "# Completion time matrix\n",
    "C = np.matrix([[15, 20, 18, 25],\n",
    "     [12, 16, 15, 21],\n",
    "     [9, 13, 12, 18],\n",
    "     [8, 11, 10, 16],\n",
    "     [7, 9, 9, 14],\n",
    "     [6, 8, 8, 12],\n",
    "     [5, 7, 7, 11],\n",
    "     [4, 7, 6, 10]])\n",
    "[m,n] = np.shape(C);"
   ]
  },
  {
   "cell_type": "code",
   "execution_count": 4,
   "metadata": {},
   "outputs": [],
   "source": [
    "# reduction in completion time\n",
    "RC = np.matrix([[C[0,j]-C[i,j] for j in range(n)] for i in range(m)])"
   ]
  },
  {
   "cell_type": "code",
   "execution_count": 5,
   "metadata": {},
   "outputs": [
    {
     "data": {
      "text/plain": [
       "matrix([[ 0,  0,  0,  0],\n",
       "        [ 3,  4,  3,  4],\n",
       "        [ 6,  7,  6,  7],\n",
       "        [ 7,  9,  8,  9],\n",
       "        [ 8, 11,  9, 11],\n",
       "        [ 9, 12, 10, 13],\n",
       "        [10, 13, 11, 14],\n",
       "        [11, 13, 12, 15]])"
      ]
     },
     "execution_count": 5,
     "metadata": {},
     "output_type": "execute_result"
    }
   ],
   "source": [
    "RC"
   ]
  },
  {
   "cell_type": "markdown",
   "metadata": {},
   "source": [
    "### Value function iteration\n",
    "\n",
    "$V[s,k]$ = reduction in completion time when $s$ units are distributed over\n",
    "          $1,\\ldots,k$ projects\n",
    "          \n",
    "$D[s,k]$ = optimal investment in project $k$ when $s$ units are distributed over  $1,\\ldots,k$ projects\n",
    "\n",
    "Recursion\n",
    "  $$V[s,k] = \\max_{0 \\leq j \\leq s} \\{RC[j,k] + V[s-j,k-1]\\}$$"
   ]
  },
  {
   "cell_type": "code",
   "execution_count": 6,
   "metadata": {},
   "outputs": [],
   "source": [
    "V = np.matrix(np.zeros((m,n)))\n",
    "D = np.matrix(np.zeros((m,n)))\n",
    "\n",
    "# reduction in completion time for the first project is trivial to compute\n",
    "V[:,0] = RC[:,0]\n",
    "D[:,0] = np.matrix(np.arange(m)).T"
   ]
  },
  {
   "cell_type": "code",
   "execution_count": 7,
   "metadata": {},
   "outputs": [],
   "source": [
    "# iterating over the other projects\n",
    "for k in range(1,n):\n",
    "    for s in range(m):\n",
    "        # initially spend everything on project k\n",
    "        V[s,k] = RC[s,k] + V[0,k-1]\n",
    "        D[s,k] = s\n",
    "        \n",
    "        if (s > 0):\n",
    "            for j in range(0,s):\n",
    "                if (RC[j,k] + V[s-j,k-1] > V[s,k]):\n",
    "                    V[s,k] =  RC[j,k] + V[s-j,k-1];\n",
    "                    D[s,k] = j;"
   ]
  },
  {
   "cell_type": "code",
   "execution_count": 8,
   "metadata": {},
   "outputs": [
    {
     "name": "stdout",
     "output_type": "stream",
     "text": [
      "[2. 2. 2. 1.]\n"
     ]
    }
   ],
   "source": [
    "# optimal invesment\n",
    "x = np.zeros(n);\n",
    "Ctotal = 7\n",
    "\n",
    "for k in range(n-1,-1,-1):\n",
    "    x[k] = D[Ctotal,k];\n",
    "    Ctotal = np.int(Ctotal - D[Ctotal,k]);\n",
    "\n",
    "print(x)"
   ]
  }
 ],
 "metadata": {
  "kernelspec": {
   "display_name": "Python 3",
   "language": "python",
   "name": "python3"
  },
  "language_info": {
   "codemirror_mode": {
    "name": "ipython",
    "version": 3
   },
   "file_extension": ".py",
   "mimetype": "text/x-python",
   "name": "python",
   "nbconvert_exporter": "python",
   "pygments_lexer": "ipython3",
   "version": "3.7.3"
  }
 },
 "nbformat": 4,
 "nbformat_minor": 2
}
