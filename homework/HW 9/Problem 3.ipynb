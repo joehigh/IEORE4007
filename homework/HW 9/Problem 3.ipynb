{
 "cells": [
  {
   "cell_type": "markdown",
   "metadata": {},
   "source": [
    "#### Problem 3 Code & Results\n",
    "Want to solve the following SOC problem\n",
    "$$\n",
    "\\begin{array}{rl}\n",
    "\\mbox{max} & z \\\\\n",
    "\\mbox{s.t} & {\\boldsymbol \\mu}\\{k\\}^\\top\\mathbf{x} - \\lambda\\lVert\\mathbf{V}\\{k\\}\\mathbf{x}\\rVert_{2} \\geq z ~, \\\\\n",
    "           & \\sum_{i=1}^{n}(x_i^+ - x_i^-) = 1 ~ , \\\\ \n",
    "           & \\sum_{i=1}^{n}x_i^- \\leq 4 ~ ,\\\\\n",
    "           & x_k^{+}, x_k^{-} \\geq 0~, \\ \\ \\forall k = 1, \\ldots , n\n",
    " \\end{array}\n",
    " $$"
   ]
  },
  {
   "cell_type": "code",
   "execution_count": 1,
   "metadata": {},
   "outputs": [],
   "source": [
    "import numpy as np\n",
    "import scipy.io as sio\n",
    "import cvxpy as cvx\n",
    "import gurobi as grb\n",
    "import matplotlib.pyplot as plt\n",
    "%matplotlib inline"
   ]
  },
  {
   "cell_type": "code",
   "execution_count": 2,
   "metadata": {},
   "outputs": [],
   "source": [
    "mat_contents = sio.loadmat('multiscenario.mat')"
   ]
  },
  {
   "cell_type": "code",
   "execution_count": 3,
   "metadata": {},
   "outputs": [],
   "source": [
    "_mu = mat_contents['mu']\n",
    "_V = mat_contents['V']\n",
    "_lambda = mat_contents['lambda']\n",
    "\n",
    "# convert into numpy arrays \n",
    "m = _mu.shape[0] # number of scenarios\n",
    "d = _mu[0][0].shape[0] # dimension of the problem\n",
    "\n",
    "mu = np.empty((m,d))\n",
    "V = np.empty((m,d,d))\n",
    "for i in range(m):\n",
    "    mu[i,:] = np.ravel(_mu[i][0])\n",
    "    V[i,:,:] = _V[i][0]"
   ]
  },
  {
   "cell_type": "code",
   "execution_count": 4,
   "metadata": {},
   "outputs": [
    {
     "data": {
      "text/plain": [
       "5.982651221281714"
      ]
     },
     "execution_count": 4,
     "metadata": {},
     "output_type": "execute_result"
    }
   ],
   "source": [
    "#r = np.max(mu.ravel())/2\n",
    "#B = 10\n",
    "\n",
    "x = cvx.Variable(d)\n",
    "beta = cvx.Variable(1)\n",
    "x_pos = cvx.Variable(d)\n",
    "x_neg = cvx.Variable(d)\n",
    "x = x_pos - x_neg\n",
    "\n",
    "objective = cvx.Maximize(beta)\n",
    "constraints = []\n",
    "\n",
    "# volatility constriants\n",
    "for k in range(m):\n",
    "    constraints += [mu[k,:].T*x - _lambda*cvx.norm(V[k,:,:]*x) >= beta];\n",
    "\n",
    "# mean constraints\n",
    "#for k in range(m):\n",
    "#    constraints += [mu[k,:].T*x >= r];\n",
    "\n",
    "# portfolio constraint\n",
    "constraints += [sum(x_pos) - sum(x_neg) == 1]\n",
    "constraints += [sum(x_neg) <= 4]\n",
    "constraints += [x_pos >= 0, x_neg >=0]\n",
    "\n",
    "# absolute value constraints\n",
    "#constraints += [cvx.abs(x) <= B]\n",
    "\n",
    "prob = cvx.Problem(objective,constraints)\n",
    "prob.solve()"
   ]
  },
  {
   "cell_type": "code",
   "execution_count": 5,
   "metadata": {},
   "outputs": [
    {
     "name": "stdout",
     "output_type": "stream",
     "text": [
      "Problem status: optimal\n",
      "Problem value: 5.982651221281714\n",
      "Variable values: \n",
      "[-4.35808969e-01 -8.00049116e-01 -1.13320116e-11  1.19776860e-01\n",
      "  1.40345128e-11 -5.00572300e-11 -5.09401398e-12  3.43523326e-01\n",
      "  7.73760057e-12  1.61878843e-11  2.39293265e-01  8.42466875e-11\n",
      " -1.02141071e-11  3.40715961e-12  1.92048538e-11  5.78437737e-12\n",
      "  2.68510102e-12  9.03890576e-12 -9.51204095e-12 -3.05560169e-11\n",
      " -5.58506781e-01  5.32346866e-12 -1.32815520e-11  9.02206603e-12\n",
      " -1.14840335e-01  1.98542589e-11  2.35316596e-11  2.22629643e-11\n",
      "  4.26152658e-12  2.91752362e-01  9.87125217e-11  1.72705056e-12\n",
      " -1.08664629e-11  4.68560340e-11  1.08047525e+00 -5.55291496e-12\n",
      " -6.40196721e-12  4.81364734e-11 -1.02529267e+00 -4.08859067e-12\n",
      "  2.80730886e-11  2.28332126e-12  1.99296301e-01  4.58321322e-10\n",
      " -2.00802651e-12  3.06699181e-11  9.26227579e-02 -2.64385800e-12\n",
      "  3.41121187e-11  1.06156537e-01  2.10884578e-11  8.50427856e-12\n",
      " -1.10419183e-11 -5.28826960e-12 -7.88074563e-12  7.79046227e-12\n",
      "  3.97497312e-11  2.21808790e-11  7.00953440e-02 -7.01247051e-02\n",
      "  1.77367484e-11  6.51890809e-12  1.37212051e-11  2.78166526e-11\n",
      " -2.02382294e-12 -5.34757817e-11 -2.96709205e-03  3.86182574e-01\n",
      "  7.86253112e-12  3.61768078e-12 -7.16455833e-11 -5.95890451e-01\n",
      "  5.37586331e-12  3.70957285e-11 -5.29884569e-11  1.31676072e-11\n",
      "  4.01188261e-01 -1.36566686e-12  3.57917395e-09 -8.96940528e-13\n",
      "  1.45143889e-11  9.05082102e-12 -7.68512864e-13 -2.93749337e-11\n",
      " -8.22129554e-12  4.60621903e-12 -3.94503454e-12 -1.53681987e-01\n",
      "  2.49793407e-12  1.51328752e-11  2.95051178e-01  2.71849153e-01\n",
      "  3.10313273e-01 -2.42837892e-01  6.39514184e-02  2.11255661e-11\n",
      "  4.27203068e-01  1.88896826e-11  3.01269072e-01 -1.14404108e-11]\n"
     ]
    }
   ],
   "source": [
    "print('Problem status: ' + str(prob.status));\n",
    "if (prob.status == 'optimal'):\n",
    "    print('Problem value: ' + str(prob.value));\n",
    "    print('Variable values: ')\n",
    "    print(x.value)"
   ]
  }
 ],
 "metadata": {
  "kernelspec": {
   "display_name": "Python 3",
   "language": "python",
   "name": "python3"
  },
  "language_info": {
   "codemirror_mode": {
    "name": "ipython",
    "version": 3
   },
   "file_extension": ".py",
   "mimetype": "text/x-python",
   "name": "python",
   "nbconvert_exporter": "python",
   "pygments_lexer": "ipython3",
   "version": "3.7.4"
  }
 },
 "nbformat": 4,
 "nbformat_minor": 2
}
