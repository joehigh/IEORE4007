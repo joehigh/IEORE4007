{
 "cells": [
  {
   "cell_type": "markdown",
   "metadata": {},
   "source": [
    "#### Problem 3 Code & Results\n",
    "Want to solve the following SOC problem\n",
    "$$\n",
    "\\begin{array}{rl}\n",
    "\\mbox{max} & z \\\\\n",
    "\\mbox{s.t} & {\\boldsymbol \\mu}\\{k\\}^\\top\\mathbf{x} - \\lambda\\lVert\\mathbf{V}\\{k\\}\\mathbf{x}\\rVert_{2} \\geq z ~, \\\\\n",
    "           & \\sum_{i=1}^{n}(x_i^+ - x_i^-) = 1 ~ , \\\\ \n",
    "           & \\sum_{i=1}^{n}x_i^- \\leq 4 ~ ,\\\\\n",
    "           & x_k^{+}, x_k^{-} \\geq 0~, \\ \\ \\forall k = 1, \\ldots , n\n",
    " \\end{array}\n",
    " $$"
   ]
  },
  {
   "cell_type": "code",
   "execution_count": 1,
   "metadata": {},
   "outputs": [],
   "source": [
    "import numpy as np\n",
    "import scipy.io as sio\n",
    "import cvxpy as cvx\n",
    "import gurobi as grb\n",
    "import matplotlib.pyplot as plt\n",
    "%matplotlib inline"
   ]
  },
  {
   "cell_type": "code",
   "execution_count": 2,
   "metadata": {},
   "outputs": [],
   "source": [
    "mat_contents = sio.loadmat('multiscenario.mat')"
   ]
  },
  {
   "cell_type": "code",
   "execution_count": 3,
   "metadata": {},
   "outputs": [],
   "source": [
    "_mu = mat_contents['mu']\n",
    "_V = mat_contents['V']\n",
    "_lambda = mat_contents['lambda']\n",
    "\n",
    "# convert into numpy arrays \n",
    "m = _mu.shape[0] # number of scenarios\n",
    "d = _mu[0][0].shape[0] # dimension of the problem\n",
    "\n",
    "mu = np.empty((m,d))\n",
    "V = np.empty((m,d,d))\n",
    "for i in range(m):\n",
    "    mu[i,:] = np.ravel(_mu[i][0])\n",
    "    V[i,:,:] = _V[i][0]"
   ]
  },
  {
   "cell_type": "code",
   "execution_count": 4,
   "metadata": {},
   "outputs": [
    {
     "data": {
      "text/plain": [
       "5.982651221281714"
      ]
     },
     "execution_count": 4,
     "metadata": {},
     "output_type": "execute_result"
    }
   ],
   "source": [
    "#r = np.max(mu.ravel())/2\n",
    "#B = 10\n",
    "\n",
    "x = cvx.Variable(d)\n",
    "beta = cvx.Variable(1)\n",
    "x_pos = cvx.Variable(d)\n",
    "x_neg = cvx.Variable(d)\n",
    "x = x_pos - x_neg\n",
    "\n",
    "objective = cvx.Maximize(beta)\n",
    "constraints = []\n",
    "\n",
    "# volatility constriants\n",
    "for k in range(m):\n",
    "    constraints += [mu[k,:].T*x - _lambda*cvx.norm(V[k,:,:]*x) >= beta];\n",
    "\n",
    "# mean constraints\n",
    "#for k in range(m):\n",
    "#    constraints += [mu[k,:].T*x >= r];\n",
    "\n",
    "# portfolio constraint\n",
    "constraints += [sum(x_pos) - sum(x_neg) == 1]\n",
    "constraints += [sum(x_neg) <= 4]\n",
    "constraints += [x_pos >= 0, x_neg >=0]\n",
    "\n",
    "# absolute value constraints\n",
    "#constraints += [cvx.abs(x) <= B]\n",
    "\n",
    "prob = cvx.Problem(objective,constraints)\n",
    "prob.solve()"
   ]
  }
 ],
 "metadata": {
  "kernelspec": {
   "display_name": "Python 3",
   "language": "python",
   "name": "python3"
  },
  "language_info": {
   "codemirror_mode": {
    "name": "ipython",
    "version": 3
   },
   "file_extension": ".py",
   "mimetype": "text/x-python",
   "name": "python",
   "nbconvert_exporter": "python",
   "pygments_lexer": "ipython3",
   "version": "3.7.3"
  }
 },
 "nbformat": 4,
 "nbformat_minor": 2
}
