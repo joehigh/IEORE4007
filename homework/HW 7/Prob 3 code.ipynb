{
 "cells": [
  {
   "cell_type": "markdown",
   "metadata": {},
   "source": [
    "### Problem 3 Code & Result"
   ]
  },
  {
   "cell_type": "code",
   "execution_count": 1,
   "metadata": {},
   "outputs": [],
   "source": [
    "import numpy as np\n",
    "import cvxpy as cvx\n",
    "import gurobi as grb"
   ]
  },
  {
   "cell_type": "code",
   "execution_count": 2,
   "metadata": {},
   "outputs": [],
   "source": [
    "h = np.array([10,9,6,6,4,-1])        # player heights (inches above 5'6\")\n",
    "p = cvx.Variable(6, boolean = True)  # 0-1 binary variable for each player i\n",
    "\n",
    "constraints = [];\n",
    "constraints += [p[4] + p[5] >= 1]\n",
    "constraints += [p[1] + p[4] <= 1]\n",
    "constraints += [p[0] + p[1] <= 1]\n",
    "constraints += [p[5] + p[1] <= 1]\n",
    "constraints += [p[5] + p[3] <= 1]\n",
    "constraints += [sum(p) == 4]\n",
    "\n",
    "obj = h*p   # Maximizing the height. The maximum average height can be subsequently be computed. \n",
    "objective = cvx.Maximize(obj);"
   ]
  },
  {
   "cell_type": "code",
   "execution_count": 3,
   "metadata": {},
   "outputs": [
    {
     "name": "stdout",
     "output_type": "stream",
     "text": [
      "Using license file /Users/joehigh/gurobi.lic\n",
      "Problem status: optimal\n",
      "Problem value: 26.0\n",
      "Variable values: \n",
      "[1. 0. 1. 1. 1. 0.]\n"
     ]
    }
   ],
   "source": [
    "prob = cvx.Problem(objective, constraints)\n",
    "prob.solve(solver = cvx.GUROBI)\n",
    "\n",
    "print('Problem status: ' + str(prob.status));\n",
    "if (prob.status == 'optimal'):\n",
    "    print('Problem value: ' + str(prob.value));\n",
    "    print('Variable values: ')\n",
    "    print(p.value)"
   ]
  },
  {
   "cell_type": "code",
   "execution_count": 4,
   "metadata": {},
   "outputs": [
    {
     "name": "stdout",
     "output_type": "stream",
     "text": [
      "Max number of inches above 5ft 6in:  6.5 (inches above 5ft 6in)\n",
      "Max average height:  72.5 inches\n"
     ]
    }
   ],
   "source": [
    "max_avg_inch = prob.value/4         # average number of inches above 5ft 6in (4 players)\n",
    "max_avg_height = prob.value/4 + 66    # 66 inches + max average inches above 5ft 6in \n",
    "                                      # 5ft 6in = 66 inches\n",
    "\n",
    "print('Max number of inches above 5ft 6in: ', max_avg_inch, '(inches above 5ft 6in)')\n",
    "print('Max average height: ', max_avg_height,'inches')"
   ]
  }
 ],
 "metadata": {
  "kernelspec": {
   "display_name": "Python 3",
   "language": "python",
   "name": "python3"
  },
  "language_info": {
   "codemirror_mode": {
    "name": "ipython",
    "version": 3
   },
   "file_extension": ".py",
   "mimetype": "text/x-python",
   "name": "python",
   "nbconvert_exporter": "python",
   "pygments_lexer": "ipython3",
   "version": "3.7.3"
  }
 },
 "nbformat": 4,
 "nbformat_minor": 2
}
