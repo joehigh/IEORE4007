{
 "cells": [
  {
   "cell_type": "markdown",
   "metadata": {},
   "source": [
    "                                                            Joseph High\n",
    "                                                            UNI: jph2185\n",
    "### Problem 2 Code & Results"
   ]
  },
  {
   "cell_type": "code",
   "execution_count": 1,
   "metadata": {},
   "outputs": [],
   "source": [
    "import numpy as np\n",
    "import cvxpy as cvx\n",
    "import gurobi as grb\n",
    "import matplotlib.pyplot as plt"
   ]
  },
  {
   "cell_type": "code",
   "execution_count": 2,
   "metadata": {},
   "outputs": [],
   "source": [
    "# US_3-MONTH_T-BILLS US_GOVN_LONG_BONDS SP_500 WILSHIRE_5000 :=\n",
    "X = np.matrix([\n",
    "    [1984, 1.103, 1.159, 1.061, 1.030],\n",
    "    [1985, 1.080, 1.366, 1.316, 1.326],\n",
    "    [1986, 1.063, 1.309, 1.186, 1.161],\n",
    "    [1987, 1.061, 0.925, 1.052, 1.023],\n",
    "    [1988, 1.071, 1.086, 1.165, 1.179],\n",
    "    [1989, 1.087, 1.212, 1.316, 1.292],\n",
    "    [1990, 1.080, 1.054, 0.968, 0.938],\n",
    "    [1991, 1.057, 1.193, 1.304, 1.342],\n",
    "    [1992, 1.036, 1.079, 1.076, 1.090],\n",
    "    [1993, 1.031, 1.217, 1.100, 1.113],\n",
    "    [1994, 1.045, 0.889, 1.012, 0.999]]);\n",
    "\n",
    "n, d = np.shape(X)\n",
    "\n",
    "L = 1 - X[:,1:n];\n",
    "mu_est = -np.mean(L,0);"
   ]
  },
  {
   "cell_type": "code",
   "execution_count": 3,
   "metadata": {},
   "outputs": [],
   "source": [
    "N = 11;                       # number of samples\n",
    "alpha = 1 - (2/N);            # compute the alpha-significance level"
   ]
  },
  {
   "cell_type": "markdown",
   "metadata": {},
   "source": [
    "$ \\textrm{Compute} \\ M_k $:\n",
    "\n",
    "$\\textrm{Let } X \\textrm{ denote the price relative matrix. Then for each scenario } k \\textrm{ let } \\\\ \n",
    "l_{k,j} = L_{k,j}\\left(\\large \\frac{X_{k,j}}{\\sum_{j}X_{k,j}}\\right) \\textrm{ where } X_{k,j} \\textrm{ is the relative price for asset } j \\textrm{ in scenario } k$\n",
    "\n",
    "$\\textrm{Then set} \\ \\ M_k =  M\\left(\\max\\limits_{j}\\big\\{ l_{k,j}\\big\\} \\ - \\  \\min\\limits_{k}\\big\\{ \\min\\limits_{j}\\big\\{l_{k,j}\\big\\}\\big\\}\\right)$\n",
    "\n",
    "$\\textrm{where} \\ M = 1.25 \\ \\ \\textrm{(the leverage constant)}$"
   ]
  },
  {
   "cell_type": "code",
   "execution_count": 4,
   "metadata": {},
   "outputs": [],
   "source": [
    "#Determine the values of M_k for each value of gamma\n",
    "\n",
    "Mk = np.zeros(11)\n",
    "gamma = np.array([0.02, 0.04, 0.06, 0.08])\n",
    "M = 1.25\n",
    "\n",
    "A = np.zeros((11,4))\n",
    "for i in range(len(L)):\n",
    "    for j in range(4):\n",
    "        A[i,j] = L[i,j]*(X[:,1:n][i,j]/np.sum(X[:,1:n][i,:]))\n",
    "\n",
    "for i in range(len(A)):\n",
    "    Mk[i] = M*(np.max(A[i]) - np.min(A))"
   ]
  },
  {
   "cell_type": "code",
   "execution_count": 5,
   "metadata": {},
   "outputs": [
    {
     "name": "stdout",
     "output_type": "stream",
     "text": [
      "Using license file /Users/joehigh/gurobi.lic\n",
      "The optimal objective value and optimal solution for each value of gamma: \n",
      "\n",
      "gamma    Exp.Return*      x1*       x2*        x3*         x4*\n",
      "0.02       0.4281      -3.8674     1.6616     3.3384      -0.1326    \n",
      "0.04       0.4376      -4.0000     1.6480     3.3520      0.0000    \n",
      "0.06       0.4390      -4.0000     1.4154     3.5846      0.0000    \n",
      "0.08       0.4404      -4.0000     1.1828     3.8172      0.0000    \n"
     ]
    },
    {
     "data": {
      "text/plain": [
       "'optimal'"
      ]
     },
     "execution_count": 5,
     "metadata": {},
     "output_type": "execute_result"
    }
   ],
   "source": [
    "x = cvx.Variable(4)\n",
    "z = cvx.Variable(11, boolean = True)    # define z to be a 0-1 vector\n",
    "x_pos = cvx.Variable(4)\n",
    "x_neg = cvx.Variable(4)\n",
    "\n",
    "x = x_pos - x_neg \n",
    "b = cvx.Variable(4, boolean = True)    #0-1 variable for x_pos\n",
    "\n",
    "p = 1/N\n",
    "M = 1.25\n",
    "W = 100\n",
    "C=3\n",
    "\n",
    "obj = mu_est*x\n",
    "objective = cvx.Maximize(obj);\n",
    "\n",
    "max_return = np.zeros(4)\n",
    "res = np.zeros((4,6))\n",
    "\n",
    "for i in range(4):\n",
    "    constraints = [];\n",
    "    constraints += [L*x - Mk*z <= gamma[i]]\n",
    "    constraints += [p*sum(z) <= (1-alpha)]\n",
    "    constraints += [sum(x) == 1]\n",
    "    constraints += [M*sum(x_neg) - sum(x_pos) <= 0]\n",
    "    constraints += [x_pos <= W*b, x_pos >= 0]\n",
    "    constraints += [x_neg <= W*(1-b), x_neg >= 0]\n",
    "    \n",
    "    prob = cvx.Problem(objective, constraints)\n",
    "    prob.solve(solver = cvx.GUROBI)\n",
    "    \n",
    "    max_return[i] = prob.value;\n",
    "    res[i, :] = [gamma[i], max_return[i], x[0].value, x[1].value, x[2].value, x[3].value]\n",
    "\n",
    "res = np.round(res, 5)\n",
    "print('The optimal objective value and optimal solution for each value of gamma: \\n')\n",
    "print('gamma    Exp.Return*      x1*       x2*        x3*         x4*')\n",
    "\n",
    "np.set_printoptions(formatter={'float_kind': \"{:10.4f}\".format})\n",
    "for i in range(4):\n",
    "    np.set_printoptions(formatter={'float_kind': \"{:10.4f}\".format})\n",
    "    print('%.2f' % res[i,:].item(0), '     ', '%.4f' % res[i,:].item(1), '    ', '%.4f' % res[i,:].item(2), '   ', \n",
    "          '%.4f' % res[i,:].item(3), '   ', '%.4f' % res[i,:].item(4), '    ', '%.4f' % res[i,:].item(5), '   ')\n",
    "\n",
    "prob.status"
   ]
  },
  {
   "cell_type": "code",
   "execution_count": 6,
   "metadata": {
    "scrolled": true
   },
   "outputs": [
    {
     "data": {
      "image/png": "[encoded data removed]",
      "text/plain": [
       "<Figure size 432x288 with 1 Axes>"
      ]
     },
     "metadata": {
      "needs_background": "light"
     },
     "output_type": "display_data"
    }
   ],
   "source": [
    "# Plot the mean-VaR frontier\n",
    "\n",
    "plt.title('Mean - VaR Frontier')\n",
    "plt.xlabel('VaR')\n",
    "plt.ylabel('Expected Return')\n",
    "plt.plot(gamma, max_return)\n",
    "plt.autoscale(enable=True, tight=True)\n",
    "#plt.axis([0.02,0.08,0.350,0.400])\n",
    "plt.show()"
   ]
  }
 ],
 "metadata": {
  "kernelspec": {
   "display_name": "Python 3",
   "language": "python",
   "name": "python3"
  },
  "language_info": {
   "codemirror_mode": {
    "name": "ipython",
    "version": 3
   },
   "file_extension": ".py",
   "mimetype": "text/x-python",
   "name": "python",
   "nbconvert_exporter": "python",
   "pygments_lexer": "ipython3",
   "version": "3.7.3"
  }
 },
 "nbformat": 4,
 "nbformat_minor": 2
}
