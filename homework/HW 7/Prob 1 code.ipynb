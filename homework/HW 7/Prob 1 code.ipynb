{
 "cells": [
  {
   "cell_type": "code",
   "execution_count": 1,
   "metadata": {},
   "outputs": [],
   "source": [
    "import numpy as np\n",
    "import cvxpy as cvx\n",
    "import gurobi as grb"
   ]
  },
  {
   "cell_type": "code",
   "execution_count": 3,
   "metadata": {},
   "outputs": [],
   "source": [
    "mu = np.array([-1.2075, 0.7172, 1.6302, 0.4889, 1.0347])\n",
    "n = 5\n",
    "beta = 1.5\n",
    "c = 0.1\n",
    "lam = 0.7\n",
    "B = 5\n",
    "gamma = 0.25\n",
    "W = 10"
   ]
  },
  {
   "cell_type": "code",
   "execution_count": 21,
   "metadata": {},
   "outputs": [],
   "source": [
    "x = cvx.Variable(n)\n",
    "x_pos = cvx.Variable(n)\n",
    "x_neg = cvx.Variable(n)\n",
    "y = cvx.Variable(n, boolean = True)\n",
    "z = cvx.Variable(n, boolean = True)\n",
    "u1 = cvx.Variable(n)\n",
    "u2 = cvx.Variable(n)\n",
    "tao_1 = cvx.Variable(n)\n",
    "tao_2 = cvx.Variable(n)\n",
    "x = x_pos - x_neg\n",
    "\n",
    "\n",
    "\n",
    "constraints = [];\n",
    "constraints += [sum(x_pos + x_neg) <= beta*W]\n",
    "constraints += [sum(x_pos - x_neg) == W]\n",
    "constraints += [tao_1 == c*y + lam*u1]\n",
    "constraints += [tao_2 == (c + lam*B - gamma*lam*B)*z + gamma*lam*u2]\n",
    "constraints += [x_pos + x_neg == u1 + u2]\n",
    "constraints += [u1<=B*y, u1>=0]\n",
    "constraints += [u2<=beta*W*z, u2>=B*z]\n",
    "constraints += [x_pos>=0, x_neg>=0]\n",
    "\n",
    "obj = mu*(x_pos-x_neg) - sum(tao_1 + tao_2)\n",
    "objective = cvx.Maximize(obj);"
   ]
  },
  {
   "cell_type": "code",
   "execution_count": 22,
   "metadata": {},
   "outputs": [
    {
     "data": {
      "text/plain": [
       "16.63375"
      ]
     },
     "execution_count": 22,
     "metadata": {},
     "output_type": "execute_result"
    }
   ],
   "source": [
    "prob = cvx.Problem(objective, constraints)\n",
    "prob.solve(solver = cvx.GUROBI)"
   ]
  },
  {
   "cell_type": "code",
   "execution_count": 29,
   "metadata": {},
   "outputs": [
    {
     "name": "stdout",
     "output_type": "stream",
     "text": [
      "[1.85 0.   0.   0.   0.  ]\n"
     ]
    }
   ],
   "source": [
    "print(tao_1.value)"
   ]
  },
  {
   "cell_type": "code",
   "execution_count": null,
   "metadata": {},
   "outputs": [],
   "source": []
  }
 ],
 "metadata": {
  "kernelspec": {
   "display_name": "Python 3",
   "language": "python",
   "name": "python3"
  },
  "language_info": {
   "codemirror_mode": {
    "name": "ipython",
    "version": 3
   },
   "file_extension": ".py",
   "mimetype": "text/x-python",
   "name": "python",
   "nbconvert_exporter": "python",
   "pygments_lexer": "ipython3",
   "version": "3.7.3"
  }
 },
 "nbformat": 4,
 "nbformat_minor": 2
}
