{
 "cells": [
  {
   "cell_type": "markdown",
   "metadata": {},
   "source": [
    "                                                                                 Joseph High\n",
    "                                                                                 UNI: jph2185\n",
    "# HW 1, Problem 1 - Python Solution   \n",
    "Details of the problem are as follows:\n",
    "+ Cash Requirements = [100, 500, 100, -600, -500, 200, 600, -900]\n",
    "+ Financial Instruments\n",
    "    + Loan: Unlimited, duration = 8 quarters, interest = 1% per quarter, compounded quarterly\n",
    "    + Loan: Unlimited, duration = 2 quarters, interest = 1.8% per quarter, compounded quarterly\n",
    "    + Loan: Unlimited, duration = 1 quarter, interest = 2.5% per quarter, compounded quarterly\n",
    "    + Bank account: Unlimited, interest = 0.5% per month"
   ]
  },
  {
   "cell_type": "code",
   "execution_count": 1,
   "metadata": {},
   "outputs": [],
   "source": [
    "# import relevant modules\n",
    "import numpy as np\n",
    "from scipy.optimize import linprog"
   ]
  },
  {
   "cell_type": "code",
   "execution_count": 2,
   "metadata": {},
   "outputs": [],
   "source": [
    "liability = np.array([100.0,500.0,100.0,-600.0,-500.0,200.0,600.0,-900.0,0])\n",
    "num_quarters = len(liability);\n",
    "lt_int = 1;\n",
    "xt_int = 1.8;\n",
    "yt_int = 2.5;\n",
    "rf_int = 0.5;"
   ]
  },
  {
   "cell_type": "code",
   "execution_count": 3,
   "metadata": {},
   "outputs": [],
   "source": [
    "nvars = 1 + (num_quarters-2) + (num_quarters-1) + num_quarters\n",
    "objvec = np.zeros(nvars)  # zero vector of length nvars\n",
    "objvec[nvars-1] = 1; # the last component is to be maximized  -- last component is the last component of the z vector"
   ]
  },
  {
   "cell_type": "code",
   "execution_count": 4,
   "metadata": {},
   "outputs": [],
   "source": [
    "# Equality constraints\n",
    "Aeq = np.zeros((num_quarters,nvars))\n",
    "for t in range(num_quarters):\n",
    "    # coefficients of l_t\n",
    "    if (t==0):\n",
    "        Aeq[t,t] = 1;  # L_1 coefficient in Q1\n",
    "        Aeq[num_quarters-1,t] = -(1+lt_int/100)**8;  #L_1 coefficient in Q9\n",
    "        \n",
    "    # coefficients of x_t\n",
    "    xoffset = 1\n",
    "    if (t<num_quarters-2):\n",
    "        Aeq[t,xoffset+t] = 1;  # x_t coefficient\n",
    "    if (t>1):\n",
    "        Aeq[t,t-1] = -(1+xt_int/100)**2;   # x_{t-2} coefficient\n",
    "    \n",
    "    # coefficients of y_t\n",
    "    yoffset = num_quarters-1\n",
    "    if (t<num_quarters-1):\n",
    "        Aeq[t,yoffset+t] = 1;   # y_t coefficient\n",
    "    if (t>0):\n",
    "        Aeq[t,yoffset+t-1] = -(1+yt_int/100);   # y_{t-1} coefficient\n",
    "    \n",
    "    # coefficient of z_t\n",
    "    zoffset = 1+(num_quarters-2)+(num_quarters-1) \n",
    "    if (t>0):\n",
    "        Aeq[t,zoffset+t-1] = 1+rf_int/100;     # z_{t-1} coefficient\n",
    "    Aeq[t,zoffset+t] = -1;   # z_t coefficient\n",
    "\n",
    "beq = liability"
   ]
  },
  {
   "cell_type": "code",
   "execution_count": 5,
   "metadata": {},
   "outputs": [],
   "source": [
    "# set up and solve the optimization problem\n",
    "res = linprog(-objvec,A_eq=Aeq,b_eq=beq)   #By default, linprog solves minimization problems."
   ]
  },
  {
   "cell_type": "code",
   "execution_count": 6,
   "metadata": {},
   "outputs": [
    {
     "name": "stdout",
     "output_type": "stream",
     "text": [
      "objective value =  471.56304857588367\n",
      "l =  399.8095748847105\n",
      "x =  [2.26928213e-04 1.98691111e+02 8.48009287e-04 1.41402332e-04\n",
      " 1.21501065e-04 1.93836963e-04 2.00719432e-04]\n",
      "y =  [2.40078620e-04 2.87611412e-04 9.99996404e+01 1.93464789e-04\n",
      " 2.71961434e-04 1.39133063e-04 1.12479648e-03 2.62096726e-04]\n",
      "z =  [2.99810046e+02 2.67463775e-04 2.31112335e-04 2.91592546e+02\n",
      " 7.93049806e+02 5.97014970e+02 1.12515390e-03 9.00000004e+02\n",
      " 4.71563049e+02]\n"
     ]
    }
   ],
   "source": [
    "if (res.status == 0): # if optimization solved correctly\n",
    "    var = res.x\n",
    "    l = var[0]\n",
    "    x = var[xoffset:num_quarters-1]\n",
    "    y = var[yoffset:yoffset+(num_quarters-1)]\n",
    "    z = var[zoffset:zoffset+num_quarters]\n",
    "    print(\"objective value = \", -res.fun)\n",
    "    print(\"l = \", l)\n",
    "    print(\"x = \", x)\n",
    "    print(\"y = \", y)\n",
    "    print(\"z = \", z)\n",
    "else:\n",
    "    print(res.message)"
   ]
  }
 ],
 "metadata": {
  "kernelspec": {
   "display_name": "Python 3",
   "language": "python",
   "name": "python3"
  },
  "language_info": {
   "codemirror_mode": {
    "name": "ipython",
    "version": 3
   },
   "file_extension": ".py",
   "mimetype": "text/x-python",
   "name": "python",
   "nbconvert_exporter": "python",
   "pygments_lexer": "ipython3",
   "version": "3.7.3"
  }
 },
 "nbformat": 4,
 "nbformat_minor": 4
}
