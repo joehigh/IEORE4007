{
 "cells": [
  {
   "cell_type": "markdown",
   "metadata": {},
   "source": [
    "This example formulates and solves the following simple MIP model:\n",
    "$$\n",
    "\\begin{array}{rl}  \n",
    "\\text{maximize} & x +   y + 2 z\\\\\n",
    "\\text{s.t.} & x + 2 y + 3 z \\leq 4\\\\\n",
    "& x +   y       \\geq 1\\\\\n",
    "&   x, y, z \\in \\{0,1\\}\n",
    "\\end{array}\n",
    "$$"
   ]
  },
  {
   "cell_type": "code",
   "execution_count": 1,
   "metadata": {},
   "outputs": [],
   "source": [
    "import numpy as np\n",
    "import cvxpy as cvx"
   ]
  },
  {
   "cell_type": "code",
   "execution_count": 3,
   "metadata": {},
   "outputs": [],
   "source": [
    "# define the boolean variable\n",
    "x = cvx.Variable(3, boolean = True)              #Defines a 0-1 variable. If it was an integer variable, use cvx.Int()\n",
    "\n",
    "# define the objective vector\n",
    "c = np.array([1,1,2]);\n",
    "objective = cvx.Maximize(c*x)\n",
    "\n",
    "# define the constraints\n",
    "constraints = [np.array([1,2,3])*x <= 4, np.array([1,1,0])*x >= 1]"
   ]
  },
  {
   "cell_type": "code",
   "execution_count": 4,
   "metadata": {},
   "outputs": [
    {
     "name": "stdout",
     "output_type": "stream",
     "text": [
      "Using license file /Users/joehigh/gurobi.lic\n"
     ]
    },
    {
     "data": {
      "text/plain": [
       "3.0"
      ]
     },
     "execution_count": 4,
     "metadata": {},
     "output_type": "execute_result"
    }
   ],
   "source": [
    "prob = cvx.Problem(objective, constraints)\n",
    "prob.solve(solver=cvx.GUROBI)"
   ]
  },
  {
   "cell_type": "code",
   "execution_count": 5,
   "metadata": {},
   "outputs": [
    {
     "name": "stdout",
     "output_type": "stream",
     "text": [
      "[1. 0. 1.]\n"
     ]
    }
   ],
   "source": [
    "print(x.value)"
   ]
  },
  {
   "cell_type": "markdown",
   "metadata": {
    "collapsed": true
   },
   "source": [
    "### Portfolio optimization problem with lot constraints\n",
    "\n",
    "Suppose a portfolio $x = (x_1, \\ldots, x_d)^\\top$ is feasible if\n",
    "+ either $x_i = 0$ or $x_i \\geq m_i > 0$\n",
    "+ $\\sum_{i=1}^d x_i \\leq W$\n",
    "\n",
    "Reformulation is as follows:\n",
    "$$ \n",
    "\\begin{array}{ll}\n",
    "m_i z_i \\leq x_i \\leq W z_i, & i = 1, \\ldots, d,\\\\\n",
    "\\sum_{i=1}^d x_i \\leq W,\\\\\n",
    "z \\in \\{0,1\\}^d\n",
    "\\end{array}\n",
    "$$\n",
    "\n",
    "Solve a max-min problem\n",
    "$$ \n",
    "\\begin{array}{rll}\n",
    "\\max & \\min_{1 \\leq k \\leq L} c_k^\\top x, \\\\\n",
    "\\mbox{s.t.} & m_i z_i -x_i \\leq 0, & i = 1, \\ldots, d,\\\\\n",
    "& x_i - Wz_i \\leq 0, & i = 1, \\ldots, d,\\\\\n",
    "& \\sum_{i=1}^d x_i \\leq W,\\\\\n",
    "& z \\in \\{0,1\\}^d\n",
    "\\end{array}\n",
    "$$"
   ]
  },
  {
   "cell_type": "code",
   "execution_count": 7,
   "metadata": {},
   "outputs": [
    {
     "name": "stdout",
     "output_type": "stream",
     "text": [
      "0.1562083042181433\n",
      "x = [0.42164776 0.         0.         0.28469222 0.18095626 0.11270376\n",
      " 0.         0.         0.         0.        ]\n",
      "z = [ 1. -0. -0.  1.  1.  1. -0. -0. -0. -0.]\n"
     ]
    }
   ],
   "source": [
    "import random as rnd # for generating a random objective\n",
    "rnd.seed(10)\n",
    "\n",
    "d = 10\n",
    "\n",
    "L = 6\n",
    "c = np.zeros((L,d))\n",
    "for k in range(L):\n",
    "    c[k,:] = np.array([rnd.random() - rnd.random() for i in range(d)])\n",
    "m = 0.1\n",
    "W = 1\n",
    "\n",
    "x = cvx.Variable(d)\n",
    "r = cvx.Variable(1)\n",
    "z = cvx.Variable(d, boolean=True)\n",
    "\n",
    "objective = cvx.Maximize(r)\n",
    "\n",
    "constraints = [];\n",
    "for k in range(L):\n",
    "    constraints += [c[k,:]*x - r >= 0]\n",
    "\n",
    "for i in range(d):\n",
    "    constraints += [m*z[i] - x[i] <= 0, x[i] - W*z[i] <= 0]\n",
    "constraints += [sum(x) <= W]\n",
    "prob = cvx.Problem(objective,constraints)\n",
    "\n",
    "prob.solve(solver=cvx.GUROBI)\n",
    "if (prob.status == 'optimal'):\n",
    "    print(prob.value)\n",
    "    print('x = ' + str(x.value.T))\n",
    "    print('z = ' + str(z.value.T))"
   ]
  },
  {
   "cell_type": "code",
   "execution_count": 8,
   "metadata": {},
   "outputs": [
    {
     "data": {
      "text/plain": [
       "<module 'cvxpy' from '//anaconda3/lib/python3.7/site-packages/cvxpy-1.0.24-py3.7-macosx-10.7-x86_64.egg/cvxpy/__init__.py'>"
      ]
     },
     "execution_count": 8,
     "metadata": {},
     "output_type": "execute_result"
    }
   ],
   "source": [
    "cvx"
   ]
  },
  {
   "cell_type": "code",
   "execution_count": null,
   "metadata": {},
   "outputs": [],
   "source": []
  }
 ],
 "metadata": {
  "kernelspec": {
   "display_name": "Python 3",
   "language": "python",
   "name": "python3"
  },
  "language_info": {
   "codemirror_mode": {
    "name": "ipython",
    "version": 3
   },
   "file_extension": ".py",
   "mimetype": "text/x-python",
   "name": "python",
   "nbconvert_exporter": "python",
   "pygments_lexer": "ipython3",
   "version": "3.7.3"
  }
 },
 "nbformat": 4,
 "nbformat_minor": 2
}
