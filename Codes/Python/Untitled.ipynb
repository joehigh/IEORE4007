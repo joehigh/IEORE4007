{
 "cells": [
  {
   "cell_type": "markdown",
   "metadata": {},
   "source": [
    "## Simple LP\n",
    "Consider the following Linear Programming problem:\n",
    "\n",
    "\\begin{array}{rl}  \n",
    "\\text{maximize} & \\ 2x_1 +   3x_2\\\\\n",
    "\\text{s.t.} & - x_1 + 2 x_2 \\leq 2\\\\\n",
    "& \\ \\ \\  x_1 +   2x_2       \\leq 4\\\\\n",
    "& \\ \\ \\ \\ \\ \\ \\ \\ \\ \\ \\ \\ \\ x_2 \\leq 2 \\\\\n",
    "& \\ \\ \\ \\ \\ \\ \\ \\ x_1, x_2 \\geq 0 \\\\\n",
    "\\end{array}"
   ]
  },
  {
   "cell_type": "code",
   "execution_count": null,
   "metadata": {},
   "outputs": [],
   "source": []
  }
 ],
 "metadata": {
  "kernelspec": {
   "display_name": "Python 3",
   "language": "python",
   "name": "python3"
  },
  "language_info": {
   "codemirror_mode": {
    "name": "ipython",
    "version": 3
   },
   "file_extension": ".py",
   "mimetype": "text/x-python",
   "name": "python",
   "nbconvert_exporter": "python",
   "pygments_lexer": "ipython3",
   "version": "3.7.3"
  }
 },
 "nbformat": 4,
 "nbformat_minor": 2
}
