{
 "cells": [
  {
   "cell_type": "markdown",
   "metadata": {},
   "source": [
    "## Simple LP\n",
    "Consider the following Linear Program:\n",
    "\n",
    "\\begin{array}{rl}  \n",
    "\\text{maximize} & \\ 2x_1 +   3x_2\\\\\n",
    "\\text{s.t.} & - x_1 + 2 x_2 \\leq 2\\\\\n",
    "& \\ \\ \\  x_1 +   2x_2       \\leq 4\\\\\n",
    "& \\ \\ \\ \\ \\ \\ \\ \\ \\ \\ \\ \\ \\ x_2 \\leq 2 \\\\\n",
    "& \\ \\ \\ \\ \\ \\ \\ \\ x_1, x_2 \\geq 0 \\\\\n",
    "\\end{array}"
   ]
  },
  {
   "cell_type": "code",
   "execution_count": 1,
   "metadata": {},
   "outputs": [],
   "source": [
    "import numpy as np\n",
    "import cvxpy as cvx\n",
    "#from tabulate import *"
   ]
  },
  {
   "cell_type": "code",
   "execution_count": 2,
   "metadata": {},
   "outputs": [],
   "source": [
    "n_constraints = 3\n",
    "n_variables = 2\n",
    "x = cvx.Variable(n_variables)\n",
    "obj = cvx.Variable(1)\n",
    "A = [[-1,2],[1,2],[0,1]]\n",
    "b = np.array([2,4,2])"
   ]
  },
  {
   "cell_type": "code",
   "execution_count": 3,
   "metadata": {},
   "outputs": [
    {
     "name": "stdout",
     "output_type": "stream",
     "text": [
      "[Expression(AFFINE, UNKNOWN, ())]\n",
      "[Expression(AFFINE, UNKNOWN, ()), Expression(AFFINE, UNKNOWN, ())]\n",
      "[Expression(AFFINE, UNKNOWN, ())]\n",
      "[Expression(AFFINE, UNKNOWN, ()), Expression(AFFINE, UNKNOWN, ())]\n",
      "[Expression(AFFINE, ZERO, ())]\n",
      "[Expression(AFFINE, ZERO, ()), Expression(AFFINE, UNKNOWN, ())]\n"
     ]
    }
   ],
   "source": [
    "constraints = [];\n",
    "obj = 2*x[0] + 3*x[1]\n",
    "\n",
    "for i in range(n_constraints):\n",
    "    expr = []\n",
    "    for j in range(n_variables):\n",
    "        expr += [A[i][j]*x[j]]\n",
    "        print(expr)\n",
    "    constraints += [sum(expr) <= b[i]]\n",
    "\n",
    "constraints += [x[0] >= 0, x[1] >= 0]\n",
    "\n",
    "objective = cvx.Maximize(obj)"
   ]
  },
  {
   "cell_type": "code",
   "execution_count": 6,
   "metadata": {},
   "outputs": [
    {
     "data": {
      "text/plain": [
       "8.0"
      ]
     },
     "execution_count": 6,
     "metadata": {},
     "output_type": "execute_result"
    }
   ],
   "source": [
    "prob = cvx.Problem(objective, constraints)\n",
    "prob.solve()"
   ]
  },
  {
   "cell_type": "code",
   "execution_count": 5,
   "metadata": {},
   "outputs": [
    {
     "name": "stdout",
     "output_type": "stream",
     "text": [
      "8.0\n"
     ]
    }
   ],
   "source": [
    "print(prob.value)"
   ]
  }
 ],
 "metadata": {
  "kernelspec": {
   "display_name": "Python 3",
   "language": "python",
   "name": "python3"
  },
  "language_info": {
   "codemirror_mode": {
    "name": "ipython",
    "version": 3
   },
   "file_extension": ".py",
   "mimetype": "text/x-python",
   "name": "python",
   "nbconvert_exporter": "python",
   "pygments_lexer": "ipython3",
   "version": "3.7.3"
  }
 },
 "nbformat": 4,
 "nbformat_minor": 2
}
