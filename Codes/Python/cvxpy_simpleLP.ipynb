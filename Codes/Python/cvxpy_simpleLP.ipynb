{
 "cells": [
  {
   "cell_type": "markdown",
   "metadata": {},
   "source": [
    "## Problem description"
   ]
  },
  {
   "cell_type": "markdown",
   "metadata": {},
   "source": [
    "The goal here is to solve a simple scenarios based asset allocation problem. We have m = 3 scenarios and n = 4 assets. The details are as follows:\n",
    "+ Cost of assets: $c = [2.0, 3.0, 1.0, 5.0]$\n",
    "Payoffs of the n assets and the requirements in the m scenarios\n",
    "+ Scenario 1: Payoff $S_1 = [0.2,  1. ,  0.1,  0.5]$ Requirement $r_1 = 10.0$\n",
    "+ Scenario 2: Payoff $S_2 = [0.5,  1.2,  1. ,  0.8]$ Requirement $r_2 = 20.0$\n",
    "+ Scenario 3: Payoff $S_3 = [1. ,  0.2,  1.3,  1.2]$ Requirement $r_3 = 15.0$\n",
    "\n",
    "Linear programming formulation: $\\phi$ = number of shares in assets\n",
    "\n",
    "$$\n",
    "\\begin{array}{rl}\n",
    "\\mbox{min} & \\sum_{i=1}^n c_i \\phi_i\\\\\n",
    "\\mbox{subject to} & \\sum_{i = 1}^n S_{ji}\\phi_i >= r_j, \\quad j = 1, \\ldots, m\n",
    "\\end{array}\n",
    "$$"
   ]
  },
  {
   "cell_type": "markdown",
   "metadata": {},
   "source": [
    "### Load up numpy and cvxpy"
   ]
  },
  {
   "cell_type": "code",
   "execution_count": 1,
   "metadata": {},
   "outputs": [],
   "source": [
    "import numpy as np\n",
    "import cvxpy as cvx\n",
    "import gurobipy as grb"
   ]
  },
  {
   "cell_type": "markdown",
   "metadata": {},
   "source": [
    "### Set up the data for the problem"
   ]
  },
  {
   "cell_type": "code",
   "execution_count": 2,
   "metadata": {
    "jupyter": {
     "outputs_hidden": true
    }
   },
   "outputs": [],
   "source": [
    "numassets = 4;\n",
    "numscenarios = 3;\n",
    "S = np.matrix([\n",
    "    [ 0.2,  1. ,  0.1,  0.5],\n",
    "    [ 0.5,  1.2,  1. ,  0.8],\n",
    "    [ 1. ,  0.2,  1.3,  1.2]])\n",
    "r = np.matrix([                         #column vector\n",
    "    [10.0],\n",
    "    [20.0],\n",
    "    [15.0]]);\n",
    "cost = np.matrix([2.0,3.0,1.0,5.0]);    #row vector"
   ]
  },
  {
   "cell_type": "markdown",
   "metadata": {},
   "source": [
    "### Model formulation\n",
    "A CVXPY model consists of three components\n",
    "+ Variables: $\\phi$\n",
    "+ Objective function: $\\mbox{minimize}\\ c'\\phi$\n",
    "+ Constraints: $S\\phi \\geq r$"
   ]
  },
  {
   "cell_type": "code",
   "execution_count": 3,
   "metadata": {
    "jupyter": {
     "outputs_hidden": true
    }
   },
   "outputs": [],
   "source": [
    "phi = cvx.Variable(numassets);               # Variable is a function defined in the cvxpy package. The argument is\n",
    "                                             # the dimension of the variable vector. By convention, the cvx package\n",
    "                                             # assumes that variables are all column vectors. Here, phi is a column\n",
    "                                             # vector with dimension 4.\n",
    "objective = cvx.Minimize(cost*phi);          # To avoid using transpose, cost was defined as a row vector.\n",
    "constraints = []\n",
    "for j in range(numscenarios):\n",
    "    constraints += [S[j,:]*phi >= r[j]];\n",
    "constraints += [phi >= 0]                    # Unlike linprog, cvx does not assume that variables are nonnegative.\n",
    "prob = cvx.Problem(objective, constraints)   # phi contains decision variables"
   ]
  },
  {
   "cell_type": "markdown",
   "metadata": {},
   "source": [
    "### Solve the problem\n",
    "And print solution in case the problem is solved to optimality"
   ]
  },
  {
   "cell_type": "code",
   "execution_count": 4,
   "metadata": {
    "scrolled": true
   },
   "outputs": [
    {
     "name": "stdout",
     "output_type": "stream",
     "text": [
      "Problem status: optimal\n",
      "Problem value: 37.109375000000014\n",
      "Variable values: \n",
      "[5.71896098e-23 8.98437500e+00 1.01562500e+01 4.08879600e-23]\n"
     ]
    }
   ],
   "source": [
    "prob.solve()                                              # Unlike linprog and Excel, which use the Simplex algorithm\n",
    "                                                          # to solve LPs, cvxpy uses Interior Point algorithms.\n",
    "\n",
    "print('Problem status: ' + str(prob.status));\n",
    "if (prob.status == 'optimal'):\n",
    "    print('Problem value: ' + str(prob.value));\n",
    "    print('Variable values: ')\n",
    "    print(phi.value)"
   ]
  },
  {
   "cell_type": "markdown",
   "metadata": {},
   "source": [
    "Solve the problem using a different solver"
   ]
  },
  {
   "cell_type": "code",
   "execution_count": 5,
   "metadata": {},
   "outputs": [
    {
     "name": "stdout",
     "output_type": "stream",
     "text": [
      "['CVXOPT', 'ECOS', 'ECOS_BB', 'GLPK', 'GLPK_MI', 'GUROBI', 'OSQP', 'SCS']\n",
      "Using license file /Users/joehigh/gurobi.lic\n",
      "Problem status: optimal\n",
      "Problem value: 37.109375\n",
      "Variable values: \n",
      "[ 0.        8.984375 10.15625   0.      ]\n"
     ]
    }
   ],
   "source": [
    "print(cvx.installed_solvers())                         # GUROBI gives you the option to use either Simplex or Interior\n",
    "                                                       # Point methods.\n",
    "prob.solve(solver=cvx.GUROBI)\n",
    "print('Problem status: ' + str(prob.status));\n",
    "if (prob.status == 'optimal'):\n",
    "    print('Problem value: ' + str(prob.value));\n",
    "    print('Variable values: ')\n",
    "    print(phi.value)"
   ]
  },
  {
   "cell_type": "markdown",
   "metadata": {},
   "source": [
    "Can you explain the difference in the solutions? \n",
    "\n",
    "Why only two assets purchased?"
   ]
  },
  {
   "cell_type": "markdown",
   "metadata": {},
   "source": [
    "Lets analyze the constraints"
   ]
  },
  {
   "cell_type": "code",
   "execution_count": 6,
   "metadata": {},
   "outputs": [
    {
     "ename": "ValueError",
     "evalue": "shapes (3,4) and (1,4) not aligned: 4 (dim 1) != 1 (dim 0)",
     "output_type": "error",
     "traceback": [
      "\u001b[0;31m---------------------------------------------------------------------------\u001b[0m",
      "\u001b[0;31mValueError\u001b[0m                                Traceback (most recent call last)",
      "\u001b[0;32m<ipython-input-6-dff64a211bc9>\u001b[0m in \u001b[0;36m<module>\u001b[0;34m\u001b[0m\n\u001b[0;32m----> 1\u001b[0;31m \u001b[0mprint\u001b[0m\u001b[0;34m(\u001b[0m\u001b[0mnp\u001b[0m\u001b[0;34m.\u001b[0m\u001b[0mconcatenate\u001b[0m\u001b[0;34m(\u001b[0m\u001b[0;34m(\u001b[0m\u001b[0mS\u001b[0m\u001b[0;34m*\u001b[0m\u001b[0mphi\u001b[0m\u001b[0;34m.\u001b[0m\u001b[0mvalue\u001b[0m\u001b[0;34m,\u001b[0m \u001b[0mr\u001b[0m\u001b[0;34m)\u001b[0m\u001b[0;34m,\u001b[0m \u001b[0maxis\u001b[0m\u001b[0;34m=\u001b[0m\u001b[0;36m1\u001b[0m\u001b[0;34m)\u001b[0m\u001b[0;34m)\u001b[0m\u001b[0;34m\u001b[0m\u001b[0;34m\u001b[0m\u001b[0m\n\u001b[0m",
      "\u001b[0;32m//anaconda3/lib/python3.7/site-packages/numpy/matrixlib/defmatrix.py\u001b[0m in \u001b[0;36m__mul__\u001b[0;34m(self, other)\u001b[0m\n\u001b[1;32m    218\u001b[0m         \u001b[0;32mif\u001b[0m \u001b[0misinstance\u001b[0m\u001b[0;34m(\u001b[0m\u001b[0mother\u001b[0m\u001b[0;34m,\u001b[0m \u001b[0;34m(\u001b[0m\u001b[0mN\u001b[0m\u001b[0;34m.\u001b[0m\u001b[0mndarray\u001b[0m\u001b[0;34m,\u001b[0m \u001b[0mlist\u001b[0m\u001b[0;34m,\u001b[0m \u001b[0mtuple\u001b[0m\u001b[0;34m)\u001b[0m\u001b[0;34m)\u001b[0m \u001b[0;34m:\u001b[0m\u001b[0;34m\u001b[0m\u001b[0;34m\u001b[0m\u001b[0m\n\u001b[1;32m    219\u001b[0m             \u001b[0;31m# This promotes 1-D vectors to row vectors\u001b[0m\u001b[0;34m\u001b[0m\u001b[0;34m\u001b[0m\u001b[0;34m\u001b[0m\u001b[0m\n\u001b[0;32m--> 220\u001b[0;31m             \u001b[0;32mreturn\u001b[0m \u001b[0mN\u001b[0m\u001b[0;34m.\u001b[0m\u001b[0mdot\u001b[0m\u001b[0;34m(\u001b[0m\u001b[0mself\u001b[0m\u001b[0;34m,\u001b[0m \u001b[0masmatrix\u001b[0m\u001b[0;34m(\u001b[0m\u001b[0mother\u001b[0m\u001b[0;34m)\u001b[0m\u001b[0;34m)\u001b[0m\u001b[0;34m\u001b[0m\u001b[0;34m\u001b[0m\u001b[0m\n\u001b[0m\u001b[1;32m    221\u001b[0m         \u001b[0;32mif\u001b[0m \u001b[0misscalar\u001b[0m\u001b[0;34m(\u001b[0m\u001b[0mother\u001b[0m\u001b[0;34m)\u001b[0m \u001b[0;32mor\u001b[0m \u001b[0;32mnot\u001b[0m \u001b[0mhasattr\u001b[0m\u001b[0;34m(\u001b[0m\u001b[0mother\u001b[0m\u001b[0;34m,\u001b[0m \u001b[0;34m'__rmul__'\u001b[0m\u001b[0;34m)\u001b[0m \u001b[0;34m:\u001b[0m\u001b[0;34m\u001b[0m\u001b[0;34m\u001b[0m\u001b[0m\n\u001b[1;32m    222\u001b[0m             \u001b[0;32mreturn\u001b[0m \u001b[0mN\u001b[0m\u001b[0;34m.\u001b[0m\u001b[0mdot\u001b[0m\u001b[0;34m(\u001b[0m\u001b[0mself\u001b[0m\u001b[0;34m,\u001b[0m \u001b[0mother\u001b[0m\u001b[0;34m)\u001b[0m\u001b[0;34m\u001b[0m\u001b[0;34m\u001b[0m\u001b[0m\n",
      "\u001b[0;31mValueError\u001b[0m: shapes (3,4) and (1,4) not aligned: 4 (dim 1) != 1 (dim 0)"
     ]
    }
   ],
   "source": [
    "print(np.concatenate((S*phi.value, r), axis=1))"
   ]
  },
  {
   "cell_type": "markdown",
   "metadata": {},
   "source": [
    "Does this give a clue to why only two assets?"
   ]
  },
  {
   "cell_type": "markdown",
   "metadata": {},
   "source": [
    "Plot the portfolio"
   ]
  },
  {
   "cell_type": "code",
   "execution_count": 7,
   "metadata": {},
   "outputs": [
    {
     "data": {
      "text/plain": [
       "<Figure size 640x480 with 1 Axes>"
      ]
     },
     "metadata": {},
     "output_type": "display_data"
    }
   ],
   "source": [
    "import matplotlib.pyplot as plt\n",
    "plt.plot(phi.value)\n",
    "plt.show()"
   ]
  },
  {
   "cell_type": "code",
   "execution_count": null,
   "metadata": {
    "jupyter": {
     "outputs_hidden": true
    }
   },
   "outputs": [],
   "source": []
  }
 ],
 "metadata": {
  "kernelspec": {
   "display_name": "Python 3",
   "language": "python",
   "name": "python3"
  },
  "language_info": {
   "codemirror_mode": {
    "name": "ipython",
    "version": 3
   },
   "file_extension": ".py",
   "mimetype": "text/x-python",
   "name": "python",
   "nbconvert_exporter": "python",
   "pygments_lexer": "ipython3",
   "version": "3.7.3"
  }
 },
 "nbformat": 4,
 "nbformat_minor": 4
}
