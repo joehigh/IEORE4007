{
 "cells": [
  {
   "cell_type": "code",
   "execution_count": 1,
   "metadata": {},
   "outputs": [],
   "source": [
    "import numpy as np\n",
    "import cvxpy as cvx\n",
    "import pandas as pd"
   ]
  },
  {
   "cell_type": "code",
   "execution_count": 2,
   "metadata": {},
   "outputs": [],
   "source": [
    "# Data for the assets\n",
    "# US_3-MONTH_T-BILLS US_GOVN_LONG_BONDS SP_500 WILSHIRE_5000\n",
    "X = np.array([[1984, 1.103, 1.159, 1.061, 1.030],\n",
    "[1985, 1.080, 1.366, 1.316, 1.326],\n",
    "[1986, 1.063, 1.309, 1.186, 1.161],\n",
    "[1987, 1.061, 0.925, 1.052, 1.023],\n",
    "[1988, 1.071, 1.086, 1.165, 1.179],\n",
    "[1989, 1.087, 1.212, 1.316, 1.292],\n",
    "[1990, 1.080, 1.054, 0.968, 0.938],\n",
    "[1991, 1.057, 1.193, 1.304, 1.342],\n",
    "[1992, 1.036, 1.079, 1.076, 1.090],\n",
    "[1993, 1.031, 1.217, 1.100, 1.113],\n",
    "[1994, 1.045, 0.889, 1.012, 0.999]])\n",
    "Xdf = pd.DataFrame(X[:,1:5],index=X[:,0].astype(int))\n",
    "Xdf.columns = ['Tbills', 'Tbonds', 'SP500', 'Wilshire5K']"
   ]
  },
  {
   "cell_type": "code",
   "execution_count": 3,
   "metadata": {},
   "outputs": [],
   "source": [
    "# mean and covariance from the data frame\n",
    "mudf = Xdf.mean()\n",
    "mu = np.array(mudf)\n",
    "\n",
    "Vdf = Xdf.cov()\n",
    "V = np.array(Vdf)\n",
    "\n",
    "# target return \n",
    "R = mu.sum()/len(mu)\n",
    "\n",
    "# short limit\n",
    "K = 1"
   ]
  },
  {
   "cell_type": "code",
   "execution_count": 4,
   "metadata": {},
   "outputs": [
    {
     "name": "stdout",
     "output_type": "stream",
     "text": [
      "[[0.00049 0.00083 0.00058 0.00032]\n",
      " [0.00083 0.02169 0.01328 0.01417]\n",
      " [0.00058 0.01328 0.01572 0.01707]\n",
      " [0.00032 0.01417 0.01707 0.019  ]]\n"
     ]
    }
   ],
   "source": [
    "np.set_printoptions(precision=5)\n",
    "print(V)"
   ]
  },
  {
   "cell_type": "markdown",
   "metadata": {},
   "source": [
    "We want to solve the optimization problem\n",
    "$$\n",
    "\\begin{array}{rl}\n",
    "\\mbox{min} & x^\\top V x\\\\\n",
    "\\mbox{s.t.} & \\mu^\\top x = R,\\\\\n",
    "& \\mathbf{1}^\\top x = 1,\\\\\n",
    "& x \\geq -K \\mathbf{1}\n",
    "\\end{array}\n",
    "$$"
   ]
  },
  {
   "cell_type": "code",
   "execution_count": 7,
   "metadata": {},
   "outputs": [],
   "source": [
    "# equality constraints\n",
    "d = len(mu)\n",
    "A = np.matrix([mu, np.ones(d)])\n",
    "b = np.matrix([[R],[1]])\n",
    "meq = len(b)\n",
    "\n",
    "# inequality constraints\n",
    "H = np.matrix(np.identity(d))\n",
    "g = -K*np.ones(d)\n",
    "\n",
    "# create an initial feasible solution\n",
    "# diversify between the assets with the highest and the lowest returns\n",
    "mumax = mu.max()\n",
    "kmax = mu.argmax()\n",
    "\n",
    "mumin = mu.min()\n",
    "kmin = mu.argmin()\n",
    "x = np.zeros(len(mu))\n",
    "\n",
    "x[kmax] = (R-mumin)/(mumax- mumin)\n",
    "x[kmin] = (mumax-R)/(mumax-mumin)\n",
    "\n",
    "# gradient at the x\n",
    "gradfx = (2*V).dot(x)"
   ]
  },
  {
   "cell_type": "code",
   "execution_count": 149,
   "metadata": {
    "collapsed": true
   },
   "outputs": [],
   "source": [
    "# find the active constraints\n",
    "tol = 1e-6\n",
    "\n",
    "I = list(x < -K + tol)\n",
    "if (True in I):\n",
    "    Hx = H[I,:]\n",
    "    Aeq = np.concatenate((A, Hx),axis=0)   # concatenate original set of equality constraints with active constraints\n",
    "else:\n",
    "    Aeq = A                                # if no constraints are active, only have the initial set of equality\n",
    "m = np.shape(Aeq)[0]"
   ]
  },
  {
   "cell_type": "markdown",
   "metadata": {},
   "source": [
    "Solve the system of equations\n",
    "$$\n",
    "\\underbrace{\\begin{bmatrix}\n",
    "Aeq & \\mathbf{0}\\\\\n",
    "2V & -Aeq^\\top \n",
    "\\end{bmatrix}}_{M}\n",
    "\\underbrace{\\begin{bmatrix}\n",
    "y \\\\ v\n",
    "\\end{bmatrix}}_{z}\n",
    "= \\underbrace{\\begin{bmatrix}\n",
    "0 \\\\\n",
    "- \\nabla f(x)\n",
    "\\end{bmatrix}}_{q}\n",
    "$$"
   ]
  },
  {
   "cell_type": "code",
   "execution_count": 151,
   "metadata": {},
   "outputs": [
    {
     "name": "stdout",
     "output_type": "stream",
     "text": [
      "search direction = \n",
      "[  1.395e-01  -1.431e-03   1.725e+00  -1.863e+00]\n"
     ]
    }
   ],
   "source": [
    "gradfx = (2*V).dot(x)\n",
    "M1 = np.concatenate((Aeq,np.zeros((m,m))),axis=1)\n",
    "M2 = np.concatenate((2*V,-Aeq.T),axis=1)\n",
    "M = np.concatenate((M1,M2),axis=0)\n",
    "\n",
    "q = np.concatenate((np.zeros(m),-gradfx),axis=0)\n",
    "z = np.linalg.solve(M,q)\n",
    "y = z[0:d]\n",
    "v = z[d:d+m]\n",
    "\n",
    "if (np.linalg.norm(y) > tol):\n",
    "    # take a step\n",
    "    step = 1;\n",
    "    for i in range(np.shape(H)[0]): # all inequality constraints\n",
    "        if (H[i,:].dot(y) < -tol):\n",
    "            step = min(step, (g[i]-H[i,:].dot(x))/H[i,:].dot(y))\n",
    "    x = x + float(step)*y;\n",
    "    drop = False\n",
    "else: # norm(y) = 0\n",
    "    # look at the dual variables corresponding to the inquality constraints\n",
    "    vmin = min(v[meq:m])\n",
    "    kmin = v[meq:m].argmin()\n",
    "    if (vmin < -tol): # if the minimum is negative remove the constraint\n",
    "        print('Dropping constraints')\n",
    "        drop = True\n",
    "        Aeq = np.delete(Aeq,meq + kmin, 0)\n",
    "        m = np.shape(Aeq)[0]\n",
    "    else:\n",
    "        print('Optimal solution found')\n",
    "        optfound = True\n",
    "print('search direction = ')\n",
    "np.set_printoptions(precision=3)\n",
    "print(y)\n",
    "\n"
   ]
  },
  {
   "cell_type": "code",
   "execution_count": 152,
   "metadata": {},
   "outputs": [
    {
     "data": {
      "text/plain": [
       "matrix([[ 1.065,  1.135,  1.141,  1.136,  0.   ,  0.   ],\n",
       "        [ 1.   ,  1.   ,  1.   ,  1.   ,  0.   ,  0.   ]])"
      ]
     },
     "execution_count": 152,
     "metadata": {},
     "output_type": "execute_result"
    }
   ],
   "source": [
    "M1"
   ]
  },
  {
   "cell_type": "code",
   "execution_count": 153,
   "metadata": {},
   "outputs": [
    {
     "name": "stdout",
     "output_type": "stream",
     "text": [
      "search direction: [  1.395e-01  -1.431e-03   1.725e+00  -1.863e+00]\n",
      "step: 0.5367343398176345\n",
      "current iterate: [  3.635e-01  -7.681e-04   1.637e+00  -1.000e+00]\n",
      "search direction: [-0.003  0.035 -0.033  0.   ]\n",
      "step: 1.0\n",
      "current iterate: [ 0.361  0.035  1.605 -1.   ]\n",
      "Optimal solution found\n",
      "Optimal portfolio: [ 0.361  0.035  1.605 -1.   ]\n"
     ]
    }
   ],
   "source": [
    "# put it all in a loop\n",
    "\n",
    "# Initial solution\n",
    "# create an initial feasible solution\n",
    "mumax = mu.max()\n",
    "kmax = mu.argmax()\n",
    "\n",
    "mumin = mu.min()\n",
    "kmin = mu.argmin()\n",
    "x = np.zeros(len(mu))\n",
    "\n",
    "x[kmax] = (R-mumin)/(mumax- mumin)\n",
    "x[kmin] = (mumax-R)/(mumax-mumin)\n",
    "\n",
    "# define an indicator variable for optimal\n",
    "optfound = False\n",
    "\n",
    "# indicator variable for drop state\n",
    "drop = False\n",
    "\n",
    "while (not optfound):\n",
    "    \n",
    "    if (not drop):\n",
    "        gradfx = (2*V).dot(x)\n",
    "        I = list(x < -K + tol)\n",
    "        if (True in I):\n",
    "            Hx = H[I,:]\n",
    "            Aeq = np.concatenate((A, Hx),axis=0)\n",
    "        else:\n",
    "            Aeq = A\n",
    "        m = np.shape(Aeq)[0]\n",
    "\n",
    "    M1 = np.concatenate((Aeq,np.zeros((m,m))),axis=1)\n",
    "    M2 = np.concatenate((2*V,-Aeq.T),axis=1)\n",
    "    M = np.concatenate((M1,M2),axis=0)\n",
    "\n",
    "    q = np.concatenate((np.zeros(m),-gradfx),axis=0)\n",
    "    z = np.linalg.solve(M,q)\n",
    "    y = z[0:d]\n",
    "    v = z[d:d+m]\n",
    "\n",
    "    if (np.linalg.norm(y) > tol):\n",
    "        # take a step\n",
    "        drop = False\n",
    "        step = 1;\n",
    "        for i in range(np.shape(H)[0]): # all inequality constraints\n",
    "            if (H[i,:].dot(y) < -tol):\n",
    "                step = float(min(step, (g[i]-H[i,:].dot(x))/H[i,:].dot(y)))\n",
    "        x = x + step*y;\n",
    "        \n",
    "        np.set_printoptions(precision=3)\n",
    "        print('search direction: ' + str(y))\n",
    "        print('step: ' + str(step))\n",
    "        print('current iterate: ' + str(x))\n",
    "        \n",
    "    else: # norm(y) = 0\n",
    "        # look at the dual variables corresponding to the inquality constraints\n",
    "        if (m > meq):\n",
    "            vmin = min(v[meq:m])\n",
    "            kmin = v[meq:m].argmin()\n",
    "            if (vmin < -tol): # if the minimum is negative remove the constraint\n",
    "                drop = True\n",
    "                print('Dropping constraints')\n",
    "                Aeq = np.delete(Aeq,meq + kmin, 0)\n",
    "                m = np.shape(Aeq)[0]\n",
    "            else:\n",
    "                print('Optimal solution found')\n",
    "                print('Optimal portfolio: ' + str(x))\n",
    "                optfound = True\n",
    "        else:\n",
    "            print('Optimal solution found')\n",
    "            print('Optimal portfolio: ' + str(x))\n",
    "            optfound = True\n",
    "    "
   ]
  },
  {
   "cell_type": "code",
   "execution_count": 154,
   "metadata": {},
   "outputs": [
    {
     "name": "stdout",
     "output_type": "stream",
     "text": [
      "Optimal portfolio\n",
      "[[ 0.361  0.035  1.605 -1.   ]]\n"
     ]
    }
   ],
   "source": [
    "# cvx solution\n",
    "\n",
    "z = cvx.Variable(d)\n",
    "\n",
    "objective = cvx.Minimize(cvx.quad_form(z,V))\n",
    "constraints = [mu.T*z == R, sum(z) == 1, z >= -K]\n",
    "\n",
    "prob = cvx.Problem(objective,constraints)\n",
    "prob.solve()\n",
    "\n",
    "print('Optimal portfolio')\n",
    "print(z.value.T)\n"
   ]
  }
 ],
 "metadata": {
  "kernelspec": {
   "display_name": "Python 3",
   "language": "python",
   "name": "python3"
  },
  "language_info": {
   "codemirror_mode": {
    "name": "ipython",
    "version": 3
   },
   "file_extension": ".py",
   "mimetype": "text/x-python",
   "name": "python",
   "nbconvert_exporter": "python",
   "pygments_lexer": "ipython3",
   "version": "3.7.3"
  }
 },
 "nbformat": 4,
 "nbformat_minor": 2
}
