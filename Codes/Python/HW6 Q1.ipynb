{
 "cells": [
  {
   "cell_type": "code",
   "execution_count": 5,
   "metadata": {},
   "outputs": [],
   "source": [
    "import numpy as np"
   ]
  },
  {
   "cell_type": "code",
   "execution_count": 13,
   "metadata": {},
   "outputs": [],
   "source": [
    "# US_3-MONTH_T-BILLS US_GOVN_LONG_BONDS SP_500 WILSHIRE_5000 :=\n",
    "X = np.matrix([\n",
    "    [1984, 1.103, 1.159, 1.061, 1.030],\n",
    "    [1985, 1.080, 1.366, 1.316, 1.326],\n",
    "    [1986, 1.063, 1.309, 1.186, 1.161],\n",
    "    [1987, 1.061, 0.925, 1.052, 1.023],\n",
    "    [1988, 1.071, 1.086, 1.165, 1.179],\n",
    "    [1989, 1.087, 1.212, 1.316, 1.292],\n",
    "    [1990, 1.080, 1.054, 0.968, 0.938],\n",
    "    [1991, 1.057, 1.193, 1.304, 1.342],\n",
    "    [1992, 1.036, 1.079, 1.076, 1.090],\n",
    "    [1993, 1.031, 1.217, 1.100, 1.113],\n",
    "    [1994, 1.045, 0.889, 1.012, 0.999]]);\n",
    "\n",
    "n, d = np.shape(X)\n",
    "\n",
    "L = 1 - X[:,1:n];\n",
    "mu_est = -np.mean(L,0);"
   ]
  },
  {
   "cell_type": "code",
   "execution_count": 14,
   "metadata": {},
   "outputs": [
    {
     "data": {
      "text/plain": [
       "matrix([[-0.103, -0.159, -0.061, -0.03 ],\n",
       "        [-0.08 , -0.366, -0.316, -0.326],\n",
       "        [-0.063, -0.309, -0.186, -0.161],\n",
       "        [-0.061,  0.075, -0.052, -0.023],\n",
       "        [-0.071, -0.086, -0.165, -0.179],\n",
       "        [-0.087, -0.212, -0.316, -0.292],\n",
       "        [-0.08 , -0.054,  0.032,  0.062],\n",
       "        [-0.057, -0.193, -0.304, -0.342],\n",
       "        [-0.036, -0.079, -0.076, -0.09 ],\n",
       "        [-0.031, -0.217, -0.1  , -0.113],\n",
       "        [-0.045,  0.111, -0.012,  0.001]])"
      ]
     },
     "execution_count": 14,
     "metadata": {},
     "output_type": "execute_result"
    }
   ],
   "source": [
    "L"
   ]
  }
 ],
 "metadata": {
  "kernelspec": {
   "display_name": "Python 3",
   "language": "python",
   "name": "python3"
  },
  "language_info": {
   "codemirror_mode": {
    "name": "ipython",
    "version": 3
   },
   "file_extension": ".py",
   "mimetype": "text/x-python",
   "name": "python",
   "nbconvert_exporter": "python",
   "pygments_lexer": "ipython3",
   "version": "3.6.6"
  }
 },
 "nbformat": 4,
 "nbformat_minor": 2
}
